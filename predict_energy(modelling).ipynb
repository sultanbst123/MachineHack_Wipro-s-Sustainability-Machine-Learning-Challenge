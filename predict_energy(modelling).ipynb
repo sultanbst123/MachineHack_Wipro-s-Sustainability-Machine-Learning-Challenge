{
  "cells": [
    {
      "cell_type": "markdown",
      "metadata": {
        "id": "view-in-github",
        "colab_type": "text"
      },
      "source": [
        "<a href=\"https://colab.research.google.com/github/sultanbst123/MachineHack_Wipro-s-Sustainability-Machine-Learning-Challenge/blob/main/predict_energy(modelling).ipynb\" target=\"_parent\"><img src=\"https://colab.research.google.com/assets/colab-badge.svg\" alt=\"Open In Colab\"/></a>"
      ]
    },
    {
      "cell_type": "markdown",
      "metadata": {
        "id": "ZxQMndmadEYg"
      },
      "source": [
        "## Library & File"
      ]
    },
    {
      "cell_type": "code",
      "execution_count": null,
      "metadata": {
        "colab": {
          "base_uri": "https://localhost:8080/"
        },
        "id": "VHCExxr9cYjB",
        "outputId": "9b8b76b2-7409-4605-91ac-bbc25e9b3957"
      },
      "outputs": [
        {
          "name": "stdout",
          "output_type": "stream",
          "text": [
            "Collecting catboost\n",
            "  Downloading catboost-1.0.4-cp37-none-manylinux1_x86_64.whl (76.1 MB)\n",
            "\u001b[K     |████████████████████████████████| 76.1 MB 1.3 MB/s \n",
            "\u001b[?25hRequirement already satisfied: scipy in /usr/local/lib/python3.7/dist-packages (from catboost) (1.4.1)\n",
            "Requirement already satisfied: six in /usr/local/lib/python3.7/dist-packages (from catboost) (1.15.0)\n",
            "Requirement already satisfied: matplotlib in /usr/local/lib/python3.7/dist-packages (from catboost) (3.2.2)\n",
            "Requirement already satisfied: pandas>=0.24.0 in /usr/local/lib/python3.7/dist-packages (from catboost) (1.3.5)\n",
            "Requirement already satisfied: numpy>=1.16.0 in /usr/local/lib/python3.7/dist-packages (from catboost) (1.19.5)\n",
            "Requirement already satisfied: plotly in /usr/local/lib/python3.7/dist-packages (from catboost) (5.5.0)\n",
            "Requirement already satisfied: graphviz in /usr/local/lib/python3.7/dist-packages (from catboost) (0.10.1)\n",
            "Requirement already satisfied: python-dateutil>=2.7.3 in /usr/local/lib/python3.7/dist-packages (from pandas>=0.24.0->catboost) (2.8.2)\n",
            "Requirement already satisfied: pytz>=2017.3 in /usr/local/lib/python3.7/dist-packages (from pandas>=0.24.0->catboost) (2018.9)\n",
            "Requirement already satisfied: cycler>=0.10 in /usr/local/lib/python3.7/dist-packages (from matplotlib->catboost) (0.11.0)\n",
            "Requirement already satisfied: pyparsing!=2.0.4,!=2.1.2,!=2.1.6,>=2.0.1 in /usr/local/lib/python3.7/dist-packages (from matplotlib->catboost) (3.0.7)\n",
            "Requirement already satisfied: kiwisolver>=1.0.1 in /usr/local/lib/python3.7/dist-packages (from matplotlib->catboost) (1.3.2)\n",
            "Requirement already satisfied: tenacity>=6.2.0 in /usr/local/lib/python3.7/dist-packages (from plotly->catboost) (8.0.1)\n",
            "Installing collected packages: catboost\n",
            "Successfully installed catboost-1.0.4\n",
            "Collecting optuna\n",
            "  Downloading optuna-2.10.0-py3-none-any.whl (308 kB)\n",
            "\u001b[K     |████████████████████████████████| 308 kB 4.5 MB/s \n",
            "\u001b[?25hRequirement already satisfied: PyYAML in /usr/local/lib/python3.7/dist-packages (from optuna) (3.13)\n",
            "Collecting cmaes>=0.8.2\n",
            "  Downloading cmaes-0.8.2-py3-none-any.whl (15 kB)\n",
            "Requirement already satisfied: sqlalchemy>=1.1.0 in /usr/local/lib/python3.7/dist-packages (from optuna) (1.4.31)\n",
            "Requirement already satisfied: packaging>=20.0 in /usr/local/lib/python3.7/dist-packages (from optuna) (21.3)\n",
            "Collecting cliff\n",
            "  Downloading cliff-3.10.0-py3-none-any.whl (80 kB)\n",
            "\u001b[K     |████████████████████████████████| 80 kB 4.2 MB/s \n",
            "\u001b[?25hRequirement already satisfied: scipy!=1.4.0 in /usr/local/lib/python3.7/dist-packages (from optuna) (1.4.1)\n",
            "Collecting colorlog\n",
            "  Downloading colorlog-6.6.0-py2.py3-none-any.whl (11 kB)\n",
            "Collecting alembic\n",
            "  Downloading alembic-1.7.6-py3-none-any.whl (210 kB)\n",
            "\u001b[K     |████████████████████████████████| 210 kB 36.4 MB/s \n",
            "\u001b[?25hRequirement already satisfied: numpy in /usr/local/lib/python3.7/dist-packages (from optuna) (1.19.5)\n",
            "Requirement already satisfied: tqdm in /usr/local/lib/python3.7/dist-packages (from optuna) (4.62.3)\n",
            "Requirement already satisfied: pyparsing!=3.0.5,>=2.0.2 in /usr/local/lib/python3.7/dist-packages (from packaging>=20.0->optuna) (3.0.7)\n",
            "Requirement already satisfied: importlib-metadata in /usr/local/lib/python3.7/dist-packages (from sqlalchemy>=1.1.0->optuna) (4.10.1)\n",
            "Requirement already satisfied: greenlet!=0.4.17 in /usr/local/lib/python3.7/dist-packages (from sqlalchemy>=1.1.0->optuna) (1.1.2)\n",
            "Requirement already satisfied: importlib-resources in /usr/local/lib/python3.7/dist-packages (from alembic->optuna) (5.4.0)\n",
            "Collecting Mako\n",
            "  Downloading Mako-1.1.6-py2.py3-none-any.whl (75 kB)\n",
            "\u001b[K     |████████████████████████████████| 75 kB 3.4 MB/s \n",
            "\u001b[?25hCollecting cmd2>=1.0.0\n",
            "  Downloading cmd2-2.3.3-py3-none-any.whl (149 kB)\n",
            "\u001b[K     |████████████████████████████████| 149 kB 31.6 MB/s \n",
            "\u001b[?25hCollecting pbr!=2.1.0,>=2.0.0\n",
            "  Downloading pbr-5.8.0-py2.py3-none-any.whl (112 kB)\n",
            "\u001b[K     |████████████████████████████████| 112 kB 31.2 MB/s \n",
            "\u001b[?25hCollecting stevedore>=2.0.1\n",
            "  Downloading stevedore-3.5.0-py3-none-any.whl (49 kB)\n",
            "\u001b[K     |████████████████████████████████| 49 kB 4.7 MB/s \n",
            "\u001b[?25hRequirement already satisfied: PrettyTable>=0.7.2 in /usr/local/lib/python3.7/dist-packages (from cliff->optuna) (3.0.0)\n",
            "Collecting autopage>=0.4.0\n",
            "  Downloading autopage-0.5.0-py3-none-any.whl (29 kB)\n",
            "Collecting pyperclip>=1.6\n",
            "  Downloading pyperclip-1.8.2.tar.gz (20 kB)\n",
            "Requirement already satisfied: wcwidth>=0.1.7 in /usr/local/lib/python3.7/dist-packages (from cmd2>=1.0.0->cliff->optuna) (0.2.5)\n",
            "Requirement already satisfied: typing-extensions in /usr/local/lib/python3.7/dist-packages (from cmd2>=1.0.0->cliff->optuna) (3.10.0.2)\n",
            "Requirement already satisfied: attrs>=16.3.0 in /usr/local/lib/python3.7/dist-packages (from cmd2>=1.0.0->cliff->optuna) (21.4.0)\n",
            "Requirement already satisfied: zipp>=0.5 in /usr/local/lib/python3.7/dist-packages (from importlib-metadata->sqlalchemy>=1.1.0->optuna) (3.7.0)\n",
            "Requirement already satisfied: MarkupSafe>=0.9.2 in /usr/local/lib/python3.7/dist-packages (from Mako->alembic->optuna) (2.0.1)\n",
            "Building wheels for collected packages: pyperclip\n",
            "  Building wheel for pyperclip (setup.py) ... \u001b[?25l\u001b[?25hdone\n",
            "  Created wheel for pyperclip: filename=pyperclip-1.8.2-py3-none-any.whl size=11137 sha256=3f51c7dfaa0b595acf030a6dea637861dcf2ff4e4025bfbb3ed6a7baf3747578\n",
            "  Stored in directory: /root/.cache/pip/wheels/9f/18/84/8f69f8b08169c7bae2dde6bd7daf0c19fca8c8e500ee620a28\n",
            "Successfully built pyperclip\n",
            "Installing collected packages: pyperclip, pbr, stevedore, Mako, cmd2, autopage, colorlog, cmaes, cliff, alembic, optuna\n",
            "Successfully installed Mako-1.1.6 alembic-1.7.6 autopage-0.5.0 cliff-3.10.0 cmaes-0.8.2 cmd2-2.3.3 colorlog-6.6.0 optuna-2.10.0 pbr-5.8.0 pyperclip-1.8.2 stevedore-3.5.0\n",
            "Collecting borutashap\n",
            "  Downloading BorutaShap-1.0.16-py3-none-any.whl (13 kB)\n",
            "Requirement already satisfied: numpy in /usr/local/lib/python3.7/dist-packages (from borutashap) (1.19.5)\n",
            "Requirement already satisfied: matplotlib in /usr/local/lib/python3.7/dist-packages (from borutashap) (3.2.2)\n",
            "Requirement already satisfied: seaborn in /usr/local/lib/python3.7/dist-packages (from borutashap) (0.11.2)\n",
            "Requirement already satisfied: tqdm in /usr/local/lib/python3.7/dist-packages (from borutashap) (4.62.3)\n",
            "Requirement already satisfied: scipy in /usr/local/lib/python3.7/dist-packages (from borutashap) (1.4.1)\n",
            "Requirement already satisfied: statsmodels in /usr/local/lib/python3.7/dist-packages (from borutashap) (0.10.2)\n",
            "Collecting shap>=0.34.0\n",
            "  Downloading shap-0.40.0-cp37-cp37m-manylinux2010_x86_64.whl (564 kB)\n",
            "\u001b[K     |████████████████████████████████| 564 kB 4.0 MB/s \n",
            "\u001b[?25hRequirement already satisfied: scikit-learn in /usr/local/lib/python3.7/dist-packages (from borutashap) (1.0.2)\n",
            "Requirement already satisfied: pandas in /usr/local/lib/python3.7/dist-packages (from borutashap) (1.3.5)\n",
            "Collecting slicer==0.0.7\n",
            "  Downloading slicer-0.0.7-py3-none-any.whl (14 kB)\n",
            "Requirement already satisfied: cloudpickle in /usr/local/lib/python3.7/dist-packages (from shap>=0.34.0->borutashap) (1.3.0)\n",
            "Requirement already satisfied: numba in /usr/local/lib/python3.7/dist-packages (from shap>=0.34.0->borutashap) (0.51.2)\n",
            "Requirement already satisfied: packaging>20.9 in /usr/local/lib/python3.7/dist-packages (from shap>=0.34.0->borutashap) (21.3)\n",
            "Requirement already satisfied: pyparsing!=3.0.5,>=2.0.2 in /usr/local/lib/python3.7/dist-packages (from packaging>20.9->shap>=0.34.0->borutashap) (3.0.7)\n",
            "Requirement already satisfied: python-dateutil>=2.1 in /usr/local/lib/python3.7/dist-packages (from matplotlib->borutashap) (2.8.2)\n",
            "Requirement already satisfied: kiwisolver>=1.0.1 in /usr/local/lib/python3.7/dist-packages (from matplotlib->borutashap) (1.3.2)\n",
            "Requirement already satisfied: cycler>=0.10 in /usr/local/lib/python3.7/dist-packages (from matplotlib->borutashap) (0.11.0)\n",
            "Requirement already satisfied: six>=1.5 in /usr/local/lib/python3.7/dist-packages (from python-dateutil>=2.1->matplotlib->borutashap) (1.15.0)\n",
            "Requirement already satisfied: llvmlite<0.35,>=0.34.0.dev0 in /usr/local/lib/python3.7/dist-packages (from numba->shap>=0.34.0->borutashap) (0.34.0)\n",
            "Requirement already satisfied: setuptools in /usr/local/lib/python3.7/dist-packages (from numba->shap>=0.34.0->borutashap) (57.4.0)\n",
            "Requirement already satisfied: pytz>=2017.3 in /usr/local/lib/python3.7/dist-packages (from pandas->borutashap) (2018.9)\n",
            "Requirement already satisfied: threadpoolctl>=2.0.0 in /usr/local/lib/python3.7/dist-packages (from scikit-learn->borutashap) (3.1.0)\n",
            "Requirement already satisfied: joblib>=0.11 in /usr/local/lib/python3.7/dist-packages (from scikit-learn->borutashap) (1.1.0)\n",
            "Requirement already satisfied: patsy>=0.4.0 in /usr/local/lib/python3.7/dist-packages (from statsmodels->borutashap) (0.5.2)\n",
            "Installing collected packages: slicer, shap, borutashap\n",
            "Successfully installed borutashap-1.0.16 shap-0.40.0 slicer-0.0.7\n"
          ]
        }
      ],
      "source": [
        "\n",
        "!pip install catboost\n",
        "!pip install optuna\n",
        "!pip install borutashap"
      ]
    },
    {
      "cell_type": "code",
      "execution_count": null,
      "metadata": {
        "colab": {
          "base_uri": "https://localhost:8080/"
        },
        "id": "RV8M-x84caes",
        "outputId": "48c18bdf-26ff-483e-a781-2c2ce3ecf96c"
      },
      "outputs": [
        {
          "name": "stdout",
          "output_type": "stream",
          "text": [
            "Requirement already satisfied: scikit-learn in /usr/local/lib/python3.7/dist-packages (1.0.2)\n",
            "Requirement already satisfied: joblib>=0.11 in /usr/local/lib/python3.7/dist-packages (from scikit-learn) (1.1.0)\n",
            "Requirement already satisfied: threadpoolctl>=2.0.0 in /usr/local/lib/python3.7/dist-packages (from scikit-learn) (3.1.0)\n",
            "Requirement already satisfied: numpy>=1.14.6 in /usr/local/lib/python3.7/dist-packages (from scikit-learn) (1.19.5)\n",
            "Requirement already satisfied: scipy>=1.1.0 in /usr/local/lib/python3.7/dist-packages (from scikit-learn) (1.4.1)\n"
          ]
        }
      ],
      "source": [
        "!pip install --upgrade scikit-learn"
      ]
    },
    {
      "cell_type": "code",
      "execution_count": null,
      "metadata": {
        "colab": {
          "base_uri": "https://localhost:8080/"
        },
        "id": "4RXtnToFcgzT",
        "outputId": "0d212040-e5f5-4903-d2fc-02ac7e8a83ce"
      },
      "outputs": [
        {
          "name": "stderr",
          "output_type": "stream",
          "text": [
            "/usr/local/lib/python3.7/dist-packages/statsmodels/tools/_testing.py:19: FutureWarning: pandas.util.testing is deprecated. Use the functions in the public API at pandas.testing instead.\n",
            "  import pandas.util.testing as tm\n"
          ]
        }
      ],
      "source": [
        "import pandas as pd\n",
        "import numpy as np\n",
        "import matplotlib.pyplot as plt\n",
        "import seaborn as sns\n",
        "import optuna\n",
        "from BorutaShap import BorutaShap\n",
        " \n",
        "# classification\n",
        "import xgboost, lightgbm, catboost\n",
        "from xgboost import XGBClassifier\n",
        "from catboost import CatBoostClassifier\n",
        "from lightgbm import LGBMClassifier\n",
        "from sklearn.tree import DecisionTreeClassifier, ExtraTreeClassifier\n",
        "from sklearn.ensemble import (RandomForestClassifier, StackingClassifier, GradientBoostingClassifier,\n",
        "                             AdaBoostClassifier, HistGradientBoostingClassifier) \n",
        "from sklearn.svm import SVC\n",
        "from sklearn.linear_model import LogisticRegression, SGDClassifier\n",
        "from sklearn.neighbors import KNeighborsClassifier\n",
        " \n",
        "# regression\n",
        "from xgboost import XGBRegressor\n",
        "from catboost import CatBoostRegressor\n",
        "from lightgbm import LGBMRegressor\n",
        "from sklearn.tree import DecisionTreeRegressor, ExtraTreeRegressor\n",
        "from sklearn.ensemble import (RandomForestRegressor, GradientBoostingRegressor,\n",
        "                             AdaBoostRegressor, HistGradientBoostingRegressor) \n",
        "from sklearn.svm import SVR\n",
        "from sklearn.linear_model import LinearRegression, Ridge, Lasso, ElasticNet, SGDOneClassSVM\n",
        "from sklearn.neighbors import KNeighborsRegressor\n",
        "\n",
        "#preprocessing\n",
        "from sklearn.model_selection import train_test_split, KFold, cross_val_score, StratifiedKFold, GridSearchCV\n",
        "from sklearn.metrics import (accuracy_score, classification_report, confusion_matrix,f1_score, \n",
        "                            log_loss, roc_auc_score, plot_roc_curve,plot_confusion_matrix) \n",
        "from sklearn.metrics import mean_absolute_error, mean_squared_error, mean_squared_log_error, r2_score\n",
        "from sklearn.preprocessing import LabelEncoder,OneHotEncoder, StandardScaler, MinMaxScaler, RobustScaler\n",
        "from sklearn.calibration import CalibrationDisplay\n",
        "from sklearn.multioutput import MultiOutputRegressor # Karna output nya ada 3 fitur\n",
        "\n",
        "import warnings\n",
        "warnings.filterwarnings(\"ignore\")\n",
        " \n",
        "%matplotlib inline"
      ]
    },
    {
      "cell_type": "code",
      "execution_count": null,
      "metadata": {
        "id": "KgopoCgQco8i"
      },
      "outputs": [],
      "source": [
        "train = pd.read_csv(\"/content/drive/MyDrive/Energy prediction/train_energy(clean).csv\")\n",
        "test = pd.read_csv(\"/content/drive/MyDrive/Energy prediction/test_energy(clean).csv\")"
      ]
    },
    {
      "cell_type": "code",
      "execution_count": null,
      "metadata": {
        "colab": {
          "base_uri": "https://localhost:8080/"
        },
        "id": "bgAlHvHIc1TZ",
        "outputId": "9d681096-f288-48c1-e44a-bb3ab22a20bd"
      },
      "outputs": [
        {
          "data": {
            "text/html": [
              "\n",
              "  <div id=\"df-b83f5093-98c9-4471-bda1-40fe64ee9402\">\n",
              "    <div class=\"colab-df-container\">\n",
              "      <div>\n",
              "<style scoped>\n",
              "    .dataframe tbody tr th:only-of-type {\n",
              "        vertical-align: middle;\n",
              "    }\n",
              "\n",
              "    .dataframe tbody tr th {\n",
              "        vertical-align: top;\n",
              "    }\n",
              "\n",
              "    .dataframe thead th {\n",
              "        text-align: right;\n",
              "    }\n",
              "</style>\n",
              "<table border=\"1\" class=\"dataframe\">\n",
              "  <thead>\n",
              "    <tr style=\"text-align: right;\">\n",
              "      <th></th>\n",
              "      <th>Year</th>\n",
              "      <th>Month</th>\n",
              "      <th>Day</th>\n",
              "      <th>Hour</th>\n",
              "      <th>Minute</th>\n",
              "      <th>Clearsky DHI</th>\n",
              "      <th>Clearsky DNI</th>\n",
              "      <th>Clearsky GHI</th>\n",
              "      <th>Cloud Type</th>\n",
              "      <th>Dew Point</th>\n",
              "      <th>Temperature</th>\n",
              "      <th>Pressure</th>\n",
              "      <th>Relative Humidity</th>\n",
              "      <th>Solar Zenith Angle</th>\n",
              "      <th>Precipitable Water</th>\n",
              "      <th>Wind Direction</th>\n",
              "      <th>Wind Speed</th>\n",
              "      <th>Fill Flag</th>\n",
              "      <th>new</th>\n",
              "      <th>new_1</th>\n",
              "    </tr>\n",
              "  </thead>\n",
              "  <tbody>\n",
              "    <tr>\n",
              "      <th>0</th>\n",
              "      <td>2009</td>\n",
              "      <td>1</td>\n",
              "      <td>1</td>\n",
              "      <td>0</td>\n",
              "      <td>0</td>\n",
              "      <td>0</td>\n",
              "      <td>0</td>\n",
              "      <td>0</td>\n",
              "      <td>0</td>\n",
              "      <td>0.0</td>\n",
              "      <td>5.0</td>\n",
              "      <td>1010</td>\n",
              "      <td>75.34</td>\n",
              "      <td>106.15</td>\n",
              "      <td>0.499</td>\n",
              "      <td>346.1</td>\n",
              "      <td>3.1</td>\n",
              "      <td>0</td>\n",
              "      <td>3.37500</td>\n",
              "      <td>2.862500</td>\n",
              "    </tr>\n",
              "    <tr>\n",
              "      <th>1</th>\n",
              "      <td>2009</td>\n",
              "      <td>1</td>\n",
              "      <td>1</td>\n",
              "      <td>0</td>\n",
              "      <td>30</td>\n",
              "      <td>0</td>\n",
              "      <td>0</td>\n",
              "      <td>0</td>\n",
              "      <td>0</td>\n",
              "      <td>1.0</td>\n",
              "      <td>5.0</td>\n",
              "      <td>1010</td>\n",
              "      <td>80.81</td>\n",
              "      <td>112.28</td>\n",
              "      <td>0.490</td>\n",
              "      <td>346.1</td>\n",
              "      <td>3.1</td>\n",
              "      <td>0</td>\n",
              "      <td>3.37500</td>\n",
              "      <td>2.862500</td>\n",
              "    </tr>\n",
              "    <tr>\n",
              "      <th>2</th>\n",
              "      <td>2009</td>\n",
              "      <td>1</td>\n",
              "      <td>1</td>\n",
              "      <td>1</td>\n",
              "      <td>0</td>\n",
              "      <td>0</td>\n",
              "      <td>0</td>\n",
              "      <td>0</td>\n",
              "      <td>4</td>\n",
              "      <td>0.0</td>\n",
              "      <td>5.0</td>\n",
              "      <td>1010</td>\n",
              "      <td>78.27</td>\n",
              "      <td>118.50</td>\n",
              "      <td>0.482</td>\n",
              "      <td>347.9</td>\n",
              "      <td>3.2</td>\n",
              "      <td>0</td>\n",
              "      <td>3.37500</td>\n",
              "      <td>2.862500</td>\n",
              "    </tr>\n",
              "    <tr>\n",
              "      <th>3</th>\n",
              "      <td>2009</td>\n",
              "      <td>1</td>\n",
              "      <td>1</td>\n",
              "      <td>1</td>\n",
              "      <td>30</td>\n",
              "      <td>0</td>\n",
              "      <td>0</td>\n",
              "      <td>0</td>\n",
              "      <td>4</td>\n",
              "      <td>0.0</td>\n",
              "      <td>4.0</td>\n",
              "      <td>1010</td>\n",
              "      <td>78.27</td>\n",
              "      <td>124.78</td>\n",
              "      <td>0.478</td>\n",
              "      <td>347.9</td>\n",
              "      <td>3.1</td>\n",
              "      <td>0</td>\n",
              "      <td>3.37500</td>\n",
              "      <td>2.862500</td>\n",
              "    </tr>\n",
              "    <tr>\n",
              "      <th>4</th>\n",
              "      <td>2009</td>\n",
              "      <td>1</td>\n",
              "      <td>1</td>\n",
              "      <td>2</td>\n",
              "      <td>0</td>\n",
              "      <td>0</td>\n",
              "      <td>0</td>\n",
              "      <td>0</td>\n",
              "      <td>4</td>\n",
              "      <td>0.0</td>\n",
              "      <td>4.0</td>\n",
              "      <td>1010</td>\n",
              "      <td>76.45</td>\n",
              "      <td>131.12</td>\n",
              "      <td>0.475</td>\n",
              "      <td>350.0</td>\n",
              "      <td>3.0</td>\n",
              "      <td>0</td>\n",
              "      <td>3.37500</td>\n",
              "      <td>2.862500</td>\n",
              "    </tr>\n",
              "    <tr>\n",
              "      <th>...</th>\n",
              "      <td>...</td>\n",
              "      <td>...</td>\n",
              "      <td>...</td>\n",
              "      <td>...</td>\n",
              "      <td>...</td>\n",
              "      <td>...</td>\n",
              "      <td>...</td>\n",
              "      <td>...</td>\n",
              "      <td>...</td>\n",
              "      <td>...</td>\n",
              "      <td>...</td>\n",
              "      <td>...</td>\n",
              "      <td>...</td>\n",
              "      <td>...</td>\n",
              "      <td>...</td>\n",
              "      <td>...</td>\n",
              "      <td>...</td>\n",
              "      <td>...</td>\n",
              "      <td>...</td>\n",
              "      <td>...</td>\n",
              "    </tr>\n",
              "    <tr>\n",
              "      <th>175290</th>\n",
              "      <td>2018</td>\n",
              "      <td>12</td>\n",
              "      <td>31</td>\n",
              "      <td>21</td>\n",
              "      <td>30</td>\n",
              "      <td>51</td>\n",
              "      <td>555</td>\n",
              "      <td>168</td>\n",
              "      <td>4</td>\n",
              "      <td>19.4</td>\n",
              "      <td>20.8</td>\n",
              "      <td>1008</td>\n",
              "      <td>91.77</td>\n",
              "      <td>77.86</td>\n",
              "      <td>3.700</td>\n",
              "      <td>204.0</td>\n",
              "      <td>3.5</td>\n",
              "      <td>100</td>\n",
              "      <td>18.83125</td>\n",
              "      <td>2.764583</td>\n",
              "    </tr>\n",
              "    <tr>\n",
              "      <th>175291</th>\n",
              "      <td>2018</td>\n",
              "      <td>12</td>\n",
              "      <td>31</td>\n",
              "      <td>22</td>\n",
              "      <td>0</td>\n",
              "      <td>37</td>\n",
              "      <td>388</td>\n",
              "      <td>84</td>\n",
              "      <td>4</td>\n",
              "      <td>19.1</td>\n",
              "      <td>20.1</td>\n",
              "      <td>1008</td>\n",
              "      <td>93.88</td>\n",
              "      <td>83.03</td>\n",
              "      <td>3.800</td>\n",
              "      <td>209.0</td>\n",
              "      <td>3.2</td>\n",
              "      <td>100</td>\n",
              "      <td>18.83125</td>\n",
              "      <td>2.764583</td>\n",
              "    </tr>\n",
              "    <tr>\n",
              "      <th>175292</th>\n",
              "      <td>2018</td>\n",
              "      <td>12</td>\n",
              "      <td>31</td>\n",
              "      <td>22</td>\n",
              "      <td>30</td>\n",
              "      <td>15</td>\n",
              "      <td>115</td>\n",
              "      <td>18</td>\n",
              "      <td>7</td>\n",
              "      <td>19.1</td>\n",
              "      <td>19.6</td>\n",
              "      <td>1008</td>\n",
              "      <td>96.83</td>\n",
              "      <td>88.32</td>\n",
              "      <td>3.800</td>\n",
              "      <td>208.0</td>\n",
              "      <td>2.6</td>\n",
              "      <td>57</td>\n",
              "      <td>18.83125</td>\n",
              "      <td>2.764583</td>\n",
              "    </tr>\n",
              "    <tr>\n",
              "      <th>175293</th>\n",
              "      <td>2018</td>\n",
              "      <td>12</td>\n",
              "      <td>31</td>\n",
              "      <td>23</td>\n",
              "      <td>0</td>\n",
              "      <td>0</td>\n",
              "      <td>0</td>\n",
              "      <td>0</td>\n",
              "      <td>7</td>\n",
              "      <td>18.7</td>\n",
              "      <td>19.2</td>\n",
              "      <td>1009</td>\n",
              "      <td>96.84</td>\n",
              "      <td>94.34</td>\n",
              "      <td>3.700</td>\n",
              "      <td>206.0</td>\n",
              "      <td>2.1</td>\n",
              "      <td>0</td>\n",
              "      <td>18.83125</td>\n",
              "      <td>2.764583</td>\n",
              "    </tr>\n",
              "    <tr>\n",
              "      <th>175294</th>\n",
              "      <td>2018</td>\n",
              "      <td>12</td>\n",
              "      <td>31</td>\n",
              "      <td>23</td>\n",
              "      <td>30</td>\n",
              "      <td>0</td>\n",
              "      <td>0</td>\n",
              "      <td>0</td>\n",
              "      <td>7</td>\n",
              "      <td>18.7</td>\n",
              "      <td>19.2</td>\n",
              "      <td>1009</td>\n",
              "      <td>96.84</td>\n",
              "      <td>100.22</td>\n",
              "      <td>3.700</td>\n",
              "      <td>206.0</td>\n",
              "      <td>2.1</td>\n",
              "      <td>0</td>\n",
              "      <td>18.83125</td>\n",
              "      <td>2.764583</td>\n",
              "    </tr>\n",
              "  </tbody>\n",
              "</table>\n",
              "<p>175295 rows × 20 columns</p>\n",
              "</div>\n",
              "      <button class=\"colab-df-convert\" onclick=\"convertToInteractive('df-b83f5093-98c9-4471-bda1-40fe64ee9402')\"\n",
              "              title=\"Convert this dataframe to an interactive table.\"\n",
              "              style=\"display:none;\">\n",
              "        \n",
              "  <svg xmlns=\"http://www.w3.org/2000/svg\" height=\"24px\"viewBox=\"0 0 24 24\"\n",
              "       width=\"24px\">\n",
              "    <path d=\"M0 0h24v24H0V0z\" fill=\"none\"/>\n",
              "    <path d=\"M18.56 5.44l.94 2.06.94-2.06 2.06-.94-2.06-.94-.94-2.06-.94 2.06-2.06.94zm-11 1L8.5 8.5l.94-2.06 2.06-.94-2.06-.94L8.5 2.5l-.94 2.06-2.06.94zm10 10l.94 2.06.94-2.06 2.06-.94-2.06-.94-.94-2.06-.94 2.06-2.06.94z\"/><path d=\"M17.41 7.96l-1.37-1.37c-.4-.4-.92-.59-1.43-.59-.52 0-1.04.2-1.43.59L10.3 9.45l-7.72 7.72c-.78.78-.78 2.05 0 2.83L4 21.41c.39.39.9.59 1.41.59.51 0 1.02-.2 1.41-.59l7.78-7.78 2.81-2.81c.8-.78.8-2.07 0-2.86zM5.41 20L4 18.59l7.72-7.72 1.47 1.35L5.41 20z\"/>\n",
              "  </svg>\n",
              "      </button>\n",
              "      \n",
              "  <style>\n",
              "    .colab-df-container {\n",
              "      display:flex;\n",
              "      flex-wrap:wrap;\n",
              "      gap: 12px;\n",
              "    }\n",
              "\n",
              "    .colab-df-convert {\n",
              "      background-color: #E8F0FE;\n",
              "      border: none;\n",
              "      border-radius: 50%;\n",
              "      cursor: pointer;\n",
              "      display: none;\n",
              "      fill: #1967D2;\n",
              "      height: 32px;\n",
              "      padding: 0 0 0 0;\n",
              "      width: 32px;\n",
              "    }\n",
              "\n",
              "    .colab-df-convert:hover {\n",
              "      background-color: #E2EBFA;\n",
              "      box-shadow: 0px 1px 2px rgba(60, 64, 67, 0.3), 0px 1px 3px 1px rgba(60, 64, 67, 0.15);\n",
              "      fill: #174EA6;\n",
              "    }\n",
              "\n",
              "    [theme=dark] .colab-df-convert {\n",
              "      background-color: #3B4455;\n",
              "      fill: #D2E3FC;\n",
              "    }\n",
              "\n",
              "    [theme=dark] .colab-df-convert:hover {\n",
              "      background-color: #434B5C;\n",
              "      box-shadow: 0px 1px 3px 1px rgba(0, 0, 0, 0.15);\n",
              "      filter: drop-shadow(0px 1px 2px rgba(0, 0, 0, 0.3));\n",
              "      fill: #FFFFFF;\n",
              "    }\n",
              "  </style>\n",
              "\n",
              "      <script>\n",
              "        const buttonEl =\n",
              "          document.querySelector('#df-b83f5093-98c9-4471-bda1-40fe64ee9402 button.colab-df-convert');\n",
              "        buttonEl.style.display =\n",
              "          google.colab.kernel.accessAllowed ? 'block' : 'none';\n",
              "\n",
              "        async function convertToInteractive(key) {\n",
              "          const element = document.querySelector('#df-b83f5093-98c9-4471-bda1-40fe64ee9402');\n",
              "          const dataTable =\n",
              "            await google.colab.kernel.invokeFunction('convertToInteractive',\n",
              "                                                     [key], {});\n",
              "          if (!dataTable) return;\n",
              "\n",
              "          const docLinkHtml = 'Like what you see? Visit the ' +\n",
              "            '<a target=\"_blank\" href=https://colab.research.google.com/notebooks/data_table.ipynb>data table notebook</a>'\n",
              "            + ' to learn more about interactive tables.';\n",
              "          element.innerHTML = '';\n",
              "          dataTable['output_type'] = 'display_data';\n",
              "          await google.colab.output.renderOutput(dataTable, element);\n",
              "          const docLink = document.createElement('div');\n",
              "          docLink.innerHTML = docLinkHtml;\n",
              "          element.appendChild(docLink);\n",
              "        }\n",
              "      </script>\n",
              "    </div>\n",
              "  </div>\n",
              "  "
            ],
            "text/plain": [
              "        Year  Month  Day  Hour  ...  Wind Speed  Fill Flag       new     new_1\n",
              "0       2009      1    1     0  ...         3.1          0   3.37500  2.862500\n",
              "1       2009      1    1     0  ...         3.1          0   3.37500  2.862500\n",
              "2       2009      1    1     1  ...         3.2          0   3.37500  2.862500\n",
              "3       2009      1    1     1  ...         3.1          0   3.37500  2.862500\n",
              "4       2009      1    1     2  ...         3.0          0   3.37500  2.862500\n",
              "...      ...    ...  ...   ...  ...         ...        ...       ...       ...\n",
              "175290  2018     12   31    21  ...         3.5        100  18.83125  2.764583\n",
              "175291  2018     12   31    22  ...         3.2        100  18.83125  2.764583\n",
              "175292  2018     12   31    22  ...         2.6         57  18.83125  2.764583\n",
              "175293  2018     12   31    23  ...         2.1          0  18.83125  2.764583\n",
              "175294  2018     12   31    23  ...         2.1          0  18.83125  2.764583\n",
              "\n",
              "[175295 rows x 20 columns]"
            ]
          },
          "execution_count": 5,
          "metadata": {},
          "output_type": "execute_result"
        }
      ],
      "source": [
        "train"
      ]
    },
    {
      "cell_type": "code",
      "execution_count": null,
      "metadata": {
        "colab": {
          "base_uri": "https://localhost:8080/"
        },
        "id": "r90dnbK6c7_b",
        "outputId": "62ab9efc-7760-49f1-b681-ff370ab72fab"
      },
      "outputs": [
        {
          "name": "stdout",
          "output_type": "stream",
          "text": [
            "<class 'pandas.core.frame.DataFrame'>\n",
            "RangeIndex: 175295 entries, 0 to 175294\n",
            "Data columns (total 20 columns):\n",
            " #   Column              Non-Null Count   Dtype  \n",
            "---  ------              --------------   -----  \n",
            " 0   Year                175295 non-null  int64  \n",
            " 1   Month               175295 non-null  int64  \n",
            " 2   Day                 175295 non-null  int64  \n",
            " 3   Hour                175295 non-null  int64  \n",
            " 4   Minute              175295 non-null  int64  \n",
            " 5   Clearsky DHI        175295 non-null  int64  \n",
            " 6   Clearsky DNI        175295 non-null  int64  \n",
            " 7   Clearsky GHI        175295 non-null  int64  \n",
            " 8   Cloud Type          175295 non-null  int64  \n",
            " 9   Dew Point           175295 non-null  float64\n",
            " 10  Temperature         175295 non-null  float64\n",
            " 11  Pressure            175295 non-null  int64  \n",
            " 12  Relative Humidity   175295 non-null  float64\n",
            " 13  Solar Zenith Angle  175295 non-null  float64\n",
            " 14  Precipitable Water  175295 non-null  float64\n",
            " 15  Wind Direction      175295 non-null  float64\n",
            " 16  Wind Speed          175295 non-null  float64\n",
            " 17  Fill Flag           175295 non-null  int64  \n",
            " 18  new                 175295 non-null  float64\n",
            " 19  new_1               175295 non-null  float64\n",
            "dtypes: float64(9), int64(11)\n",
            "memory usage: 26.7 MB\n"
          ]
        }
      ],
      "source": [
        "train.info()"
      ]
    },
    {
      "cell_type": "markdown",
      "metadata": {
        "id": "jHVFiTTidATp"
      },
      "source": [
        "## Split data"
      ]
    },
    {
      "cell_type": "code",
      "execution_count": null,
      "metadata": {
        "id": "T9vAuSuPglaf"
      },
      "outputs": [],
      "source": [
        "# split berdasarkan tahun, karna ada fitur waktu nya\n",
        "# train [2009-2017]\n",
        "# validation [2018]"
      ]
    },
    {
      "cell_type": "code",
      "execution_count": null,
      "metadata": {
        "id": "8PQNR3GfeL88"
      },
      "outputs": [],
      "source": [
        "train_ds = train.query(\"Year <= 2016\")\n",
        "validation_ds = train.query(\"Year >= 2017\")"
      ]
    },
    {
      "cell_type": "code",
      "execution_count": null,
      "metadata": {
        "id": "QUgafHQddXiQ"
      },
      "outputs": [],
      "source": [
        "x_train = train_ds.drop([\"Clearsky DHI\", \"Clearsky DNI\",\"Clearsky GHI\"], axis=1)\n",
        "x_val = validation_ds.drop([\"Clearsky DHI\", \"Clearsky DNI\",\"Clearsky GHI\"], axis=1)\n",
        "\n",
        "y_train = train_ds[[\"Clearsky DHI\", \"Clearsky DNI\",\"Clearsky GHI\"]]\n",
        "y_val = validation_ds[[\"Clearsky DHI\", \"Clearsky DNI\",\"Clearsky GHI\"]]"
      ]
    },
    {
      "cell_type": "code",
      "execution_count": null,
      "metadata": {
        "colab": {
          "base_uri": "https://localhost:8080/"
        },
        "id": "kdI2QHGihT8J",
        "outputId": "ff885b1e-8a7c-460f-d0cd-ed95ff812ba7"
      },
      "outputs": [
        {
          "data": {
            "text/plain": [
              "((140255, 17), (35040, 17))"
            ]
          },
          "execution_count": 10,
          "metadata": {},
          "output_type": "execute_result"
        }
      ],
      "source": [
        "x_train.shape, x_val.shape"
      ]
    },
    {
      "cell_type": "code",
      "execution_count": null,
      "metadata": {
        "colab": {
          "base_uri": "https://localhost:8080/"
        },
        "id": "mtYdRExq-6Nx",
        "outputId": "ccccb676-5db1-437c-a015-64557eef9a0b"
      },
      "outputs": [
        {
          "data": {
            "text/plain": [
              "2012    17568\n",
              "2016    17568\n",
              "2009    17520\n",
              "2010    17520\n",
              "2011    17520\n",
              "2013    17520\n",
              "2014    17520\n",
              "2015    17519\n",
              "Name: Year, dtype: int64"
            ]
          },
          "execution_count": 11,
          "metadata": {},
          "output_type": "execute_result"
        }
      ],
      "source": [
        "x_train.Year.value_counts()"
      ]
    },
    {
      "cell_type": "code",
      "execution_count": null,
      "metadata": {
        "colab": {
          "base_uri": "https://localhost:8080/"
        },
        "id": "nYynD-h3--_2",
        "outputId": "d6c1fd0f-8a33-418c-e016-c66be0ed6a4a"
      },
      "outputs": [
        {
          "data": {
            "text/plain": [
              "2017    17520\n",
              "2018    17520\n",
              "Name: Year, dtype: int64"
            ]
          },
          "execution_count": 12,
          "metadata": {},
          "output_type": "execute_result"
        }
      ],
      "source": [
        "x_val.Year.value_counts()"
      ]
    },
    {
      "cell_type": "code",
      "execution_count": null,
      "metadata": {
        "colab": {
          "base_uri": "https://localhost:8080/"
        },
        "id": "_IvxiigjhXXT",
        "outputId": "fd2a0a29-4845-434a-b87c-c86e158dbd90"
      },
      "outputs": [
        {
          "data": {
            "text/plain": [
              "((140255, 3), (35040, 3))"
            ]
          },
          "execution_count": 13,
          "metadata": {},
          "output_type": "execute_result"
        }
      ],
      "source": [
        "y_train.shape, y_val.shape"
      ]
    },
    {
      "cell_type": "code",
      "execution_count": null,
      "metadata": {
        "id": "jfvw3HqKniEU"
      },
      "outputs": [],
      "source": [
        "# come dengan LGBM"
      ]
    },
    {
      "cell_type": "code",
      "execution_count": null,
      "metadata": {
        "colab": {
          "base_uri": "https://localhost:8080/"
        },
        "id": "7n3AHEQ4d5k4",
        "outputId": "0209cc42-39dd-4533-e75c-91e47b8d6bc5"
      },
      "outputs": [
        {
          "data": {
            "text/plain": [
              "MultiOutputRegressor(estimator=LGBMRegressor(random_state=42))"
            ]
          },
          "execution_count": 15,
          "metadata": {},
          "output_type": "execute_result"
        }
      ],
      "source": [
        "lg = MultiOutputRegressor(LGBMRegressor(random_state=42)) \n",
        "lg.fit(x_train, y_train)"
      ]
    },
    {
      "cell_type": "code",
      "execution_count": null,
      "metadata": {
        "id": "DDxxIj45iJtW"
      },
      "outputs": [],
      "source": [
        "pred = lg.predict(x_val)"
      ]
    },
    {
      "cell_type": "code",
      "execution_count": null,
      "metadata": {
        "colab": {
          "base_uri": "https://localhost:8080/"
        },
        "id": "2A7w-boliCTa",
        "outputId": "c528b755-ccb3-4c8f-ab5d-31a9ae87439e"
      },
      "outputs": [
        {
          "data": {
            "text/plain": [
              "(0.971645158020135, 0.9869105774428678)"
            ]
          },
          "execution_count": 17,
          "metadata": {},
          "output_type": "execute_result"
        }
      ],
      "source": [
        "\n",
        "# R2 score \n",
        "lg.score(x_val, y_val), lg.score(x_train, y_train)"
      ]
    },
    {
      "cell_type": "code",
      "execution_count": null,
      "metadata": {
        "colab": {
          "base_uri": "https://localhost:8080/"
        },
        "id": "R2rJmtj4iPpP",
        "outputId": "4f7aad15-4cf3-445e-9220-c618bbb4f8c8"
      },
      "outputs": [
        {
          "data": {
            "text/plain": [
              "593.4836400328101"
            ]
          },
          "execution_count": 18,
          "metadata": {},
          "output_type": "execute_result"
        }
      ],
      "source": [
        "\n",
        "# mse \n",
        "mean_squared_error(y_val, pred)#,multioutput =\"raw_values\")"
      ]
    },
    {
      "cell_type": "code",
      "execution_count": null,
      "metadata": {
        "id": "yEsrjWb0vHHp"
      },
      "outputs": [],
      "source": [
        ""
      ]
    },
    {
      "cell_type": "markdown",
      "metadata": {
        "id": "z7-wLRZfn-gG"
      },
      "source": [
        "## Feature Selection"
      ]
    },
    {
      "cell_type": "code",
      "execution_count": null,
      "metadata": {
        "id": "073kMBDioCF5"
      },
      "outputs": [],
      "source": [
        "# gunakan boruta-shape dengan XGB, untuk memlih fitur yang bagus"
      ]
    },
    {
      "cell_type": "code",
      "execution_count": null,
      "metadata": {
        "id": "3zjbN2fLpGvW"
      },
      "outputs": [],
      "source": [
        "fs = BorutaShap(model=XGBRegressor(random_state=42,objective = \"reg:squarederror\"),\n",
        "                importance_measure=\"shap\",\n",
        "                classification = False)"
      ]
    },
    {
      "cell_type": "code",
      "execution_count": null,
      "metadata": {
        "colab": {
          "base_uri": "https://localhost:8080/",
          "height": 176,
          "referenced_widgets": [
            "30168f50a5be47b6a1fed6fa996d4460",
            "21669eced3af413abb7242d4971ea01d",
            "3aeb8f7e5d43458089459dedf9e21d0b",
            "fd580bc1eb6f424a9cb6e318ac59e5ea",
            "0e3f865bb95f4a38bdcbedf71b751dc7",
            "ce0c08b3fc2c49ed80713265db253513",
            "22715d49311b419da13cd395c84220cf",
            "c32322778a45440e800d39c2a7e16b90",
            "faa5d9eca6bb40f6b9d34cb242e72295",
            "8bff6ebd659c411f86ec4148a1ac2f26",
            "bd2a49aed8df41be81f2cc7dd1f9b886"
          ]
        },
        "id": "oddxbmHYoap3",
        "outputId": "3c22c991-2970-4fe8-e1a9-f621ac750dd8"
      },
      "outputs": [
        {
          "data": {
            "application/vnd.jupyter.widget-view+json": {
              "model_id": "30168f50a5be47b6a1fed6fa996d4460",
              "version_major": 2,
              "version_minor": 0
            },
            "text/plain": [
              "  0%|          | 0/50 [00:00<?, ?it/s]"
            ]
          },
          "metadata": {},
          "output_type": "display_data"
        },
        {
          "name": "stdout",
          "output_type": "stream",
          "text": [
            "1 attributes confirmed important: ['Solar Zenith Angle']\n",
            "16 attributes confirmed unimportant: ['Pressure', 'Dew Point', 'Fill Flag', 'Wind Speed', 'Day', 'Relative Humidity', 'Temperature', 'new_1', 'new', 'Wind Direction', 'Year', 'Minute', 'Month', 'Hour', 'Precipitable Water', 'Cloud Type']\n",
            "0 tentative attributes remains: []\n"
          ]
        }
      ],
      "source": [
        "\n",
        "#coba 10 kali\n",
        "\n",
        "fs.fit(X=x_train, y=y_train.values, n_trials=50)"
      ]
    },
    {
      "cell_type": "code",
      "execution_count": null,
      "metadata": {
        "colab": {
          "base_uri": "https://localhost:8080/",
          "height": 167
        },
        "id": "q2dMUxU-ppN5",
        "outputId": "af057119-59fa-433e-f725-31ba05606b87"
      },
      "outputs": [
        {
          "data": {
            "image/png": "[encoded data removed]",
            "text/plain": [
              "<Figure size 1728x864 with 1 Axes>"
            ]
          },
          "metadata": {},
          "output_type": "display_data"
        }
      ],
      "source": [
        "fs.plot(which_features='all', figsize=(24,12))"
      ]
    },
    {
      "cell_type": "code",
      "execution_count": null,
      "metadata": {
        "colab": {
          "base_uri": "https://localhost:8080/"
        },
        "id": "Cx6_kDLjpsFy",
        "outputId": "3265fae2-dfc1-4021-e9ac-7baf1ee31ce5"
      },
      "outputs": [
        {
          "data": {
            "text/plain": [
              "['Solar Zenith Angle']"
            ]
          },
          "execution_count": 108,
          "metadata": {},
          "output_type": "execute_result"
        }
      ],
      "source": [
        "col = fs.Subset().columns.to_list()\n",
        "col"
      ]
    },
    {
      "cell_type": "code",
      "execution_count": null,
      "metadata": {
        "id": "gRx6twc2xUON"
      },
      "outputs": [],
      "source": [
        "# hanya 1 fitur yang penting"
      ]
    },
    {
      "cell_type": "code",
      "execution_count": null,
      "metadata": {
        "id": "Ry2HVqc9xaMl"
      },
      "outputs": [],
      "source": [
        "# saya akan coba dengan xgboost dan linear model"
      ]
    },
    {
      "cell_type": "code",
      "execution_count": null,
      "metadata": {
        "id": "ebeWFZUTwA1Q"
      },
      "outputs": [],
      "source": [
        "# coba dengan linear model\n",
        "# scaling nilai nya, hanya untuk linear model\n",
        "\n",
        "std = StandardScaler() \n",
        "x_train_enc = std.fit_transform(x_train[['Solar Zenith Angle']]) \n",
        "x_val_enc = std.transform(x_val[['Solar Zenith Angle']])"
      ]
    },
    {
      "cell_type": "code",
      "execution_count": null,
      "metadata": {
        "colab": {
          "base_uri": "https://localhost:8080/"
        },
        "id": "ekDN2E2vv9W7",
        "outputId": "741576a2-94e8-4ad3-b9ff-f332c69fd269"
      },
      "outputs": [
        {
          "data": {
            "text/plain": [
              "LinearRegression()"
            ]
          },
          "execution_count": 150,
          "metadata": {},
          "output_type": "execute_result"
        }
      ],
      "source": [
        "LR = LinearRegression()\n",
        "LR.fit(x_train_enc, y_train)"
      ]
    },
    {
      "cell_type": "code",
      "execution_count": null,
      "metadata": {
        "colab": {
          "base_uri": "https://localhost:8080/"
        },
        "id": "qNo8oM9owzYf",
        "outputId": "c0cf05c0-b494-4d7b-f1dd-c193a6172f11"
      },
      "outputs": [
        {
          "data": {
            "text/plain": [
              "(0.790111458258353, 0.7797924414789711)"
            ]
          },
          "execution_count": 151,
          "metadata": {},
          "output_type": "execute_result"
        }
      ],
      "source": [
        "\n",
        "# R2 score \n",
        "LR.score(x_val_enc, y_val), LR.score(x_train_enc, y_train)"
      ]
    },
    {
      "cell_type": "code",
      "execution_count": null,
      "metadata": {
        "colab": {
          "base_uri": "https://localhost:8080/"
        },
        "id": "QQEutrUww8UU",
        "outputId": "8959f02d-defc-4fa7-ce4a-b8a917363d47"
      },
      "outputs": [
        {
          "data": {
            "text/plain": [
              "17300.75766555606"
            ]
          },
          "execution_count": 152,
          "metadata": {},
          "output_type": "execute_result"
        }
      ],
      "source": [
        "\n",
        "# mean squared error\n",
        "\n",
        "mean_squared_error(y_val,LR.predict(x_val_enc))"
      ]
    },
    {
      "cell_type": "code",
      "execution_count": null,
      "metadata": {
        "id": "AKDVh_cZy2CN"
      },
      "outputs": [],
      "source": [
        "# coba dengan xgboost"
      ]
    },
    {
      "cell_type": "code",
      "execution_count": null,
      "metadata": {
        "colab": {
          "base_uri": "https://localhost:8080/"
        },
        "id": "xhJkUEzDxfAh",
        "outputId": "a959d205-6499-4b5b-895d-16409bd7c0ef"
      },
      "outputs": [
        {
          "data": {
            "text/plain": [
              "MultiOutputRegressor(estimator=XGBRegressor(objective='reg:squarederror',\n",
              "                                            random_state=42))"
            ]
          },
          "execution_count": 153,
          "metadata": {},
          "output_type": "execute_result"
        }
      ],
      "source": [
        "\n",
        "Mxgb = MultiOutputRegressor(XGBRegressor(random_state=42,objective = \"reg:squarederror\")) \n",
        "Mxgb.fit(x_train[['Solar Zenith Angle']], y_train.values)"
      ]
    },
    {
      "cell_type": "code",
      "execution_count": null,
      "metadata": {
        "colab": {
          "base_uri": "https://localhost:8080/"
        },
        "id": "LXUGhXJTx6Gk",
        "outputId": "372d7c03-5d66-4081-a7ae-b97931cc2945"
      },
      "outputs": [
        {
          "data": {
            "text/plain": [
              "(0.9576324219344453, 0.9515431573716054)"
            ]
          },
          "execution_count": 154,
          "metadata": {},
          "output_type": "execute_result"
        }
      ],
      "source": [
        "\n",
        "# R2 score \n",
        "Mxgb.score(x_val[['Solar Zenith Angle']], y_val.values), Mxgb.score(x_train[['Solar Zenith Angle']], y_train.values)"
      ]
    },
    {
      "cell_type": "code",
      "execution_count": null,
      "metadata": {
        "colab": {
          "base_uri": "https://localhost:8080/"
        },
        "id": "-pd-YwWryaVz",
        "outputId": "f2a19ce9-3113-4975-a124-667052fda5ce"
      },
      "outputs": [
        {
          "data": {
            "text/plain": [
              "1805.1576992168573"
            ]
          },
          "execution_count": 155,
          "metadata": {},
          "output_type": "execute_result"
        }
      ],
      "source": [
        "#mean squared error\n",
        "\n",
        "mean_squared_error(y_val,Mxgb.predict(x_val[['Solar Zenith Angle']]))"
      ]
    },
    {
      "cell_type": "code",
      "execution_count": null,
      "metadata": {
        "id": "yet900WazKoG"
      },
      "outputs": [],
      "source": [
        "# evaluasi yang buruk"
      ]
    },
    {
      "cell_type": "markdown",
      "metadata": {
        "id": "TVbNaSB8pZSo"
      },
      "source": [
        "## Tree models\n",
        "\n",
        "Karena jumlah data yang banyak(menengah), saya putuskan untuk menggunakan model tree"
      ]
    },
    {
      "cell_type": "code",
      "execution_count": null,
      "metadata": {
        "id": "UmUDY8oUu84k"
      },
      "outputs": [],
      "source": [
        "# r2 untuk melihat seberapa bagus data dengan model"
      ]
    },
    {
      "cell_type": "code",
      "execution_count": null,
      "metadata": {
        "id": "s1DgZBg2rQty"
      },
      "outputs": [],
      "source": [
        "r2_score_train = []\n",
        "r2_score_validation = []\n",
        "mse = []"
      ]
    },
    {
      "cell_type": "code",
      "execution_count": null,
      "metadata": {
        "id": "hfqWTLFspk0P"
      },
      "outputs": [],
      "source": [
        "# latih dengan semua, tree Models"
      ]
    },
    {
      "cell_type": "code",
      "execution_count": null,
      "metadata": {
        "id": "osrb5GG5pso0"
      },
      "outputs": [],
      "source": [
        "XGB = MultiOutputRegressor(XGBRegressor(random_state=10, objective = \"reg:squarederror\")) \n",
        "GBT = MultiOutputRegressor(GradientBoostingRegressor(random_state=20)) \n",
        "HGBT = MultiOutputRegressor(HistGradientBoostingRegressor(random_state=30)) \n",
        "ADA = MultiOutputRegressor(AdaBoostRegressor(random_state=40)) \n",
        "EXT = MultiOutputRegressor(ExtraTreeRegressor(random_state=50))\n",
        "RF = MultiOutputRegressor(RandomForestRegressor(random_state=60)) \n",
        "DT = MultiOutputRegressor(DecisionTreeRegressor(random_state=70)) \n",
        "CB = MultiOutputRegressor(CatBoostRegressor(random_state=80)) \n",
        "LGBM = MultiOutputRegressor(LGBMRegressor(random_state=90))"
      ]
    },
    {
      "cell_type": "code",
      "execution_count": null,
      "metadata": {
        "id": "PnjQ3FBBqzLn"
      },
      "outputs": [],
      "source": [
        "def score(model,x_train, y_train, x_val, y_val):\n",
        "       \n",
        "    #lgbm & cb \n",
        "    if model == (LGBM and CB):\n",
        "       #fit model\n",
        "       model.fit(x_train,y_train,verbose=False)\n",
        "\n",
        "       #error\n",
        "       pred = model.predict(x_val)\n",
        "       r2_score_train.append(model.score(x_train,y_train)) \n",
        "       r2_score_validation.append(model.score(x_val,y_val))\n",
        "       mse.append(mean_squared_error(y_val, pred)) \n",
        "\n",
        "    else: \n",
        "       #fit model\n",
        "       model.fit(x_train,y_train)\n",
        "\n",
        "       #error\n",
        "       pred = model.predict(x_val)\n",
        "       r2_score_train.append(model.score(x_train,y_train))\n",
        "       r2_score_validation.append(model.score(x_val,y_val))\n",
        "       mse.append(mean_squared_error(y_val, pred)) \n",
        "\n",
        "    return model"
      ]
    },
    {
      "cell_type": "code",
      "execution_count": null,
      "metadata": {
        "colab": {
          "base_uri": "https://localhost:8080/"
        },
        "id": "qvp_g-nbsOa7",
        "outputId": "5e74ada0-b43c-4151-fac2-13505a7a38b5"
      },
      "outputs": [
        {
          "name": "stdout",
          "output_type": "stream",
          "text": [
            "------------------------------\n",
            "MultiOutputRegressor(estimator=XGBRegressor(objective='reg:squarederror',\n",
            "                                            random_state=10))\n",
            "~~~~~~~~DONE~~~~~~~~\n",
            "------------------------------\n",
            "MultiOutputRegressor(estimator=AdaBoostRegressor(random_state=40))\n",
            "~~~~~~~~DONE~~~~~~~~\n",
            "------------------------------\n",
            "MultiOutputRegressor(estimator=GradientBoostingRegressor(random_state=20))\n",
            "~~~~~~~~DONE~~~~~~~~\n",
            "------------------------------\n",
            "MultiOutputRegressor(estimator=HistGradientBoostingRegressor(random_state=30))\n",
            "~~~~~~~~DONE~~~~~~~~\n",
            "------------------------------\n",
            "MultiOutputRegressor(estimator=DecisionTreeRegressor(random_state=70))\n",
            "~~~~~~~~DONE~~~~~~~~\n",
            "------------------------------\n",
            "MultiOutputRegressor(estimator=RandomForestRegressor(random_state=60))\n",
            "~~~~~~~~DONE~~~~~~~~\n",
            "------------------------------\n",
            "MultiOutputRegressor(estimator=ExtraTreeRegressor(random_state=50))\n",
            "~~~~~~~~DONE~~~~~~~~\n",
            "------------------------------\n",
            "MultiOutputRegressor(estimator=LGBMRegressor(random_state=90))\n",
            "~~~~~~~~DONE~~~~~~~~\n",
            "------------------------------\n",
            "MultiOutputRegressor(estimator=<catboost.core.CatBoostRegressor object at 0x7fc3d2c37f10>)\n",
            "~~~~~~~~DONE~~~~~~~~\n"
          ]
        }
      ],
      "source": [
        "for i in [XGB,ADA,GBT,HGBT,DT,RF,EXT,LGBM,CB]:\n",
        "    print(30*\"-\")\n",
        "    print(i)\n",
        "    score(i, x_train, y_train, x_val, y_val)\n",
        "    print(\"DONE\".center(20,\"~\"))"
      ]
    },
    {
      "cell_type": "markdown",
      "metadata": {
        "id": "93nH5grHxi4_"
      },
      "source": [
        "## Models selection"
      ]
    },
    {
      "cell_type": "code",
      "execution_count": null,
      "metadata": {
        "id": "smvLWgDsvGAR"
      },
      "outputs": [],
      "source": [
        "# jadikan dataframe, untuk melihat error yang terkecil(ambil 3 model teratas) \n",
        "all_models = pd.DataFrame({\"models\": [\"XGB\",\"ADA\",\"GBT\",\"HGBT\",\"DT\",\"RF\",\"EXT\",\"LGBM\",\"CB\"], \n",
        "   \"R² Train\": r2_score_train, \n",
        "   \"R² validation\": r2_score_validation,\n",
        "   \"MSE\":mse})"
      ]
    },
    {
      "cell_type": "code",
      "execution_count": null,
      "metadata": {
        "colab": {
          "base_uri": "https://localhost:8080/",
          "height": 409
        },
        "id": "ToJQtwHJDuPD",
        "outputId": "efc05159-70d4-454d-bab7-fb3dca6a758c"
      },
      "outputs": [
        {
          "data": {
            "text/html": [
              "\n",
              "  <div id=\"df-d676848a-c494-4d59-97ae-dff89ddac3e9\">\n",
              "    <div class=\"colab-df-container\">\n",
              "      <div>\n",
              "<style scoped>\n",
              "    .dataframe tbody tr th:only-of-type {\n",
              "        vertical-align: middle;\n",
              "    }\n",
              "\n",
              "    .dataframe tbody tr th {\n",
              "        vertical-align: top;\n",
              "    }\n",
              "\n",
              "    .dataframe thead th {\n",
              "        text-align: right;\n",
              "    }\n",
              "</style>\n",
              "<table border=\"1\" class=\"dataframe\">\n",
              "  <thead>\n",
              "    <tr style=\"text-align: right;\">\n",
              "      <th></th>\n",
              "      <th>models</th>\n",
              "      <th>R² Train</th>\n",
              "      <th>R² validation</th>\n",
              "      <th>MSE</th>\n",
              "    </tr>\n",
              "  </thead>\n",
              "  <tbody>\n",
              "    <tr>\n",
              "      <th>8</th>\n",
              "      <td>CB</td>\n",
              "      <td>0.991441</td>\n",
              "      <td>0.973083</td>\n",
              "      <td>578.731839</td>\n",
              "    </tr>\n",
              "    <tr>\n",
              "      <th>3</th>\n",
              "      <td>HGBT</td>\n",
              "      <td>0.986613</td>\n",
              "      <td>0.973111</td>\n",
              "      <td>587.418848</td>\n",
              "    </tr>\n",
              "    <tr>\n",
              "      <th>7</th>\n",
              "      <td>LGBM</td>\n",
              "      <td>0.986911</td>\n",
              "      <td>0.971645</td>\n",
              "      <td>593.483640</td>\n",
              "    </tr>\n",
              "    <tr>\n",
              "      <th>2</th>\n",
              "      <td>GBT</td>\n",
              "      <td>0.977141</td>\n",
              "      <td>0.973541</td>\n",
              "      <td>617.208432</td>\n",
              "    </tr>\n",
              "    <tr>\n",
              "      <th>0</th>\n",
              "      <td>XGB</td>\n",
              "      <td>0.977178</td>\n",
              "      <td>0.973302</td>\n",
              "      <td>619.026593</td>\n",
              "    </tr>\n",
              "    <tr>\n",
              "      <th>5</th>\n",
              "      <td>RF</td>\n",
              "      <td>0.998789</td>\n",
              "      <td>0.971660</td>\n",
              "      <td>623.679477</td>\n",
              "    </tr>\n",
              "    <tr>\n",
              "      <th>6</th>\n",
              "      <td>EXT</td>\n",
              "      <td>1.000000</td>\n",
              "      <td>0.950265</td>\n",
              "      <td>1200.709123</td>\n",
              "    </tr>\n",
              "    <tr>\n",
              "      <th>4</th>\n",
              "      <td>DT</td>\n",
              "      <td>1.000000</td>\n",
              "      <td>0.949009</td>\n",
              "      <td>1219.317808</td>\n",
              "    </tr>\n",
              "    <tr>\n",
              "      <th>1</th>\n",
              "      <td>ADA</td>\n",
              "      <td>0.941476</td>\n",
              "      <td>0.923828</td>\n",
              "      <td>2028.751916</td>\n",
              "    </tr>\n",
              "  </tbody>\n",
              "</table>\n",
              "</div>\n",
              "      <button class=\"colab-df-convert\" onclick=\"convertToInteractive('df-d676848a-c494-4d59-97ae-dff89ddac3e9')\"\n",
              "              title=\"Convert this dataframe to an interactive table.\"\n",
              "              style=\"display:none;\">\n",
              "        \n",
              "  <svg xmlns=\"http://www.w3.org/2000/svg\" height=\"24px\"viewBox=\"0 0 24 24\"\n",
              "       width=\"24px\">\n",
              "    <path d=\"M0 0h24v24H0V0z\" fill=\"none\"/>\n",
              "    <path d=\"M18.56 5.44l.94 2.06.94-2.06 2.06-.94-2.06-.94-.94-2.06-.94 2.06-2.06.94zm-11 1L8.5 8.5l.94-2.06 2.06-.94-2.06-.94L8.5 2.5l-.94 2.06-2.06.94zm10 10l.94 2.06.94-2.06 2.06-.94-2.06-.94-.94-2.06-.94 2.06-2.06.94z\"/><path d=\"M17.41 7.96l-1.37-1.37c-.4-.4-.92-.59-1.43-.59-.52 0-1.04.2-1.43.59L10.3 9.45l-7.72 7.72c-.78.78-.78 2.05 0 2.83L4 21.41c.39.39.9.59 1.41.59.51 0 1.02-.2 1.41-.59l7.78-7.78 2.81-2.81c.8-.78.8-2.07 0-2.86zM5.41 20L4 18.59l7.72-7.72 1.47 1.35L5.41 20z\"/>\n",
              "  </svg>\n",
              "      </button>\n",
              "      \n",
              "  <style>\n",
              "    .colab-df-container {\n",
              "      display:flex;\n",
              "      flex-wrap:wrap;\n",
              "      gap: 12px;\n",
              "    }\n",
              "\n",
              "    .colab-df-convert {\n",
              "      background-color: #E8F0FE;\n",
              "      border: none;\n",
              "      border-radius: 50%;\n",
              "      cursor: pointer;\n",
              "      display: none;\n",
              "      fill: #1967D2;\n",
              "      height: 32px;\n",
              "      padding: 0 0 0 0;\n",
              "      width: 32px;\n",
              "    }\n",
              "\n",
              "    .colab-df-convert:hover {\n",
              "      background-color: #E2EBFA;\n",
              "      box-shadow: 0px 1px 2px rgba(60, 64, 67, 0.3), 0px 1px 3px 1px rgba(60, 64, 67, 0.15);\n",
              "      fill: #174EA6;\n",
              "    }\n",
              "\n",
              "    [theme=dark] .colab-df-convert {\n",
              "      background-color: #3B4455;\n",
              "      fill: #D2E3FC;\n",
              "    }\n",
              "\n",
              "    [theme=dark] .colab-df-convert:hover {\n",
              "      background-color: #434B5C;\n",
              "      box-shadow: 0px 1px 3px 1px rgba(0, 0, 0, 0.15);\n",
              "      filter: drop-shadow(0px 1px 2px rgba(0, 0, 0, 0.3));\n",
              "      fill: #FFFFFF;\n",
              "    }\n",
              "  </style>\n",
              "\n",
              "      <script>\n",
              "        const buttonEl =\n",
              "          document.querySelector('#df-d676848a-c494-4d59-97ae-dff89ddac3e9 button.colab-df-convert');\n",
              "        buttonEl.style.display =\n",
              "          google.colab.kernel.accessAllowed ? 'block' : 'none';\n",
              "\n",
              "        async function convertToInteractive(key) {\n",
              "          const element = document.querySelector('#df-d676848a-c494-4d59-97ae-dff89ddac3e9');\n",
              "          const dataTable =\n",
              "            await google.colab.kernel.invokeFunction('convertToInteractive',\n",
              "                                                     [key], {});\n",
              "          if (!dataTable) return;\n",
              "\n",
              "          const docLinkHtml = 'Like what you see? Visit the ' +\n",
              "            '<a target=\"_blank\" href=https://colab.research.google.com/notebooks/data_table.ipynb>data table notebook</a>'\n",
              "            + ' to learn more about interactive tables.';\n",
              "          element.innerHTML = '';\n",
              "          dataTable['output_type'] = 'display_data';\n",
              "          await google.colab.output.renderOutput(dataTable, element);\n",
              "          const docLink = document.createElement('div');\n",
              "          docLink.innerHTML = docLinkHtml;\n",
              "          element.appendChild(docLink);\n",
              "        }\n",
              "      </script>\n",
              "    </div>\n",
              "  </div>\n",
              "  "
            ],
            "text/plain": [
              "  models  R² Train  R² validation          MSE\n",
              "8     CB  0.991441       0.973083   578.731839\n",
              "3   HGBT  0.986613       0.973111   587.418848\n",
              "7   LGBM  0.986911       0.971645   593.483640\n",
              "2    GBT  0.977141       0.973541   617.208432\n",
              "0    XGB  0.977178       0.973302   619.026593\n",
              "5     RF  0.998789       0.971660   623.679477\n",
              "6    EXT  1.000000       0.950265  1200.709123\n",
              "4     DT  1.000000       0.949009  1219.317808\n",
              "1    ADA  0.941476       0.923828  2028.751916"
            ]
          },
          "execution_count": 52,
          "metadata": {},
          "output_type": "execute_result"
        }
      ],
      "source": [
        "\n",
        "# filter model berdasarkan MSE\n",
        "all_models.sort_values(\"MSE\")"
      ]
    },
    {
      "cell_type": "markdown",
      "metadata": {
        "id": "WHd763-KyFVs"
      },
      "source": [
        "## Hyper parameters tuning\n",
        "\n",
        "mengunakan optuna, untuk tuning hyperparams dari ketiga model ini"
      ]
    },
    {
      "cell_type": "markdown",
      "metadata": {
        "id": "S5sRv_PJA8D6"
      },
      "source": [
        "### CATBOOST"
      ]
    },
    {
      "cell_type": "code",
      "execution_count": null,
      "metadata": {
        "id": "j_znHX77ELjW"
      },
      "outputs": [],
      "source": [
        "#catboost\n",
        "\n",
        "def objective(trial):\n",
        "    \n",
        "    params = {'loss_function':'MultiRMSE',              \n",
        "              #'eval_metric':'R2',\n",
        "              #'task_type' : trial.suggest_categorical(\"task_type\",[\"GPU\"]),\n",
        "              'boosting_type': trial.suggest_categorical(\"boosting_type\", [\"Ordered\", \"Plain\"]),            \n",
        "              'bootstrap_type':trial.suggest_categorical(\"bootstrap_type\",[\"Bernoulli\"]), #\"MVS\"]),#\"Bayesian\" \n",
        "              #'iterations':trial.suggest_categorical(\"iterations\", [2000]),\n",
        "              'od_wait':trial.suggest_int('od_wait', 500, 2000),\n",
        "              'random_strength': trial.suggest_uniform('random_strength',10,50),                           \n",
        "              'learning_rate' : trial.suggest_uniform('learning_rate',0.01,1.0),\n",
        "              'reg_lambda': trial.suggest_uniform('reg_lambda',1e-5,100),\n",
        "              'subsample': trial.suggest_uniform('subsample',0,1),\n",
        "              'depth': trial.suggest_int('depth',1,10),\n",
        "              'min_data_in_leaf': trial.suggest_int('min_data_in_leaf',1,30),\n",
        "              'leaf_estimation_iterations': trial.suggest_int('leaf_estimation_iterations',1,15),\n",
        "               }\n",
        "\n",
        "    model = CatBoostRegressor(**params)\n",
        "\n",
        "    model.fit(x_train,y_train,eval_set=[(x_val,y_val)],verbose=False,early_stopping_rounds=100)\n",
        "\n",
        "    y_preds = model.predict(x_val)   \n",
        "    error = mean_squared_error(y_val, y_preds)\n",
        "\n",
        "    return error"
      ]
    },
    {
      "cell_type": "code",
      "execution_count": null,
      "metadata": {
        "id": "0bR9Byokydgw"
      },
      "outputs": [],
      "source": [
        "study = optuna.create_study(direction='minimize')\n",
        "study.optimize(objective, n_trials=50)"
      ]
    },
    {
      "cell_type": "code",
      "execution_count": null,
      "metadata": {
        "id": "z4ZyN2zqyfCA"
      },
      "outputs": [],
      "source": [
        "cb_params = study.best_trial.params"
      ]
    },
    {
      "cell_type": "code",
      "execution_count": null,
      "metadata": {
        "colab": {
          "base_uri": "https://localhost:8080/"
        },
        "id": "gevl4z7fCSfj",
        "outputId": "54c712fa-838b-4a0d-cacd-51675c91bcde"
      },
      "outputs": [
        {
          "data": {
            "text/plain": [
              "{'boosting_type': 'Ordered',\n",
              " 'bootstrap_type': 'Bernoulli',\n",
              " 'depth': 3,\n",
              " 'leaf_estimation_iterations': 9,\n",
              " 'learning_rate': 0.16405909616673797,\n",
              " 'min_data_in_leaf': 29,\n",
              " 'od_wait': 966,\n",
              " 'random_strength': 19.541394537589017,\n",
              " 'reg_lambda': 48.91303919568338,\n",
              " 'subsample': 0.9942960107447091}"
            ]
          },
          "execution_count": 19,
          "metadata": {},
          "output_type": "execute_result"
        }
      ],
      "source": [
        "cb_params"
      ]
    },
    {
      "cell_type": "markdown",
      "metadata": {
        "id": "JUDaYx1WA93x"
      },
      "source": [
        "### HistGradientBoosting"
      ]
    },
    {
      "cell_type": "code",
      "execution_count": null,
      "metadata": {
        "id": "JW65pKay1LRy"
      },
      "outputs": [],
      "source": [
        "#hgbt\n",
        "\n",
        "def objective(trial):\n",
        "    \n",
        "    params = {'max_iter':trial.suggest_categorical(\"max_iter\", [i for i in range(100,1100,100)]),              \n",
        "              'learning_rate' : trial.suggest_uniform('learning_rate',0.1,0.3),\n",
        "              'l2_regularization': trial.suggest_categorical('l2_regularization',[0,0.1,0.001]),\n",
        "              'max_depth': trial.suggest_int('max_depth',1,10),\n",
        "              'max_leaf_nodes': trial.suggest_int('max_leaf_nodes',2,30),\n",
        "              }  \n",
        "\n",
        "    model = MultiOutputRegressor(HistGradientBoostingRegressor(**params))\n",
        "    model.fit(x_train,y_train.values) \n",
        "\n",
        "    y_preds = model.predict(x_val)   \n",
        "    error = mean_squared_error(y_val, y_preds)\n",
        "\n",
        "    return error"
      ]
    },
    {
      "cell_type": "code",
      "execution_count": null,
      "metadata": {
        "colab": {
          "base_uri": "https://localhost:8080/"
        },
        "id": "AzOTHoGr1YUP",
        "outputId": "4eacc427-480a-4b76-8140-f4236f1316e5"
      },
      "outputs": [
        {
          "name": "stderr",
          "output_type": "stream",
          "text": [
            "\u001b[32m[I 2022-02-07 02:51:56,676]\u001b[0m A new study created in memory with name: no-name-b7da9261-f25c-46b5-aa9b-f1ae860890fc\u001b[0m\n",
            "\u001b[32m[I 2022-02-07 02:52:01,821]\u001b[0m Trial 0 finished with value: 595.6303056663929 and parameters: {'max_iter': 100, 'learning_rate': 0.2409665686085534, 'l2_regularization': 0.1, 'max_depth': 5, 'max_leaf_nodes': 11}. Best is trial 0 with value: 595.6303056663929.\u001b[0m\n",
            "\u001b[32m[I 2022-02-07 02:52:37,344]\u001b[0m Trial 1 finished with value: 610.7715518652575 and parameters: {'max_iter': 1000, 'learning_rate': 0.26476410508003867, 'l2_regularization': 0.001, 'max_depth': 8, 'max_leaf_nodes': 6}. Best is trial 0 with value: 595.6303056663929.\u001b[0m\n",
            "\u001b[32m[I 2022-02-07 02:53:23,451]\u001b[0m Trial 2 finished with value: 588.9440317645302 and parameters: {'max_iter': 900, 'learning_rate': 0.15169923266822966, 'l2_regularization': 0.001, 'max_depth': 9, 'max_leaf_nodes': 6}. Best is trial 2 with value: 588.9440317645302.\u001b[0m\n",
            "\u001b[32m[I 2022-02-07 02:53:41,435]\u001b[0m Trial 3 finished with value: 610.7581779218011 and parameters: {'max_iter': 400, 'learning_rate': 0.18927070596049322, 'l2_regularization': 0, 'max_depth': 9, 'max_leaf_nodes': 15}. Best is trial 2 with value: 588.9440317645302.\u001b[0m\n",
            "\u001b[32m[I 2022-02-07 02:53:59,589]\u001b[0m Trial 4 finished with value: 584.624497410553 and parameters: {'max_iter': 500, 'learning_rate': 0.1701910539421208, 'l2_regularization': 0.001, 'max_depth': 6, 'max_leaf_nodes': 6}. Best is trial 4 with value: 584.624497410553.\u001b[0m\n",
            "\u001b[32m[I 2022-02-07 02:54:24,292]\u001b[0m Trial 5 finished with value: 610.3815730448929 and parameters: {'max_iter': 500, 'learning_rate': 0.28314922945977306, 'l2_regularization': 0, 'max_depth': 5, 'max_leaf_nodes': 6}. Best is trial 4 with value: 584.624497410553.\u001b[0m\n",
            "\u001b[32m[I 2022-02-07 02:54:44,210]\u001b[0m Trial 6 finished with value: 572.519743602652 and parameters: {'max_iter': 500, 'learning_rate': 0.12744148110883488, 'l2_regularization': 0.001, 'max_depth': 3, 'max_leaf_nodes': 23}. Best is trial 6 with value: 572.519743602652.\u001b[0m\n",
            "\u001b[32m[I 2022-02-07 02:55:08,636]\u001b[0m Trial 7 finished with value: 656.3138455866434 and parameters: {'max_iter': 500, 'learning_rate': 0.21767638477796303, 'l2_regularization': 0.001, 'max_depth': 9, 'max_leaf_nodes': 19}. Best is trial 6 with value: 572.519743602652.\u001b[0m\n",
            "\u001b[32m[I 2022-02-07 02:55:29,746]\u001b[0m Trial 8 finished with value: 580.6570987599318 and parameters: {'max_iter': 500, 'learning_rate': 0.11287614611174566, 'l2_regularization': 0.001, 'max_depth': 3, 'max_leaf_nodes': 25}. Best is trial 6 with value: 572.519743602652.\u001b[0m\n",
            "\u001b[32m[I 2022-02-07 02:55:51,014]\u001b[0m Trial 9 finished with value: 903.2867897517266 and parameters: {'max_iter': 700, 'learning_rate': 0.1605015771907054, 'l2_regularization': 0, 'max_depth': 1, 'max_leaf_nodes': 6}. Best is trial 6 with value: 572.519743602652.\u001b[0m\n",
            "\u001b[32m[I 2022-02-07 02:56:00,551]\u001b[0m Trial 10 finished with value: 1016.7130944901509 and parameters: {'max_iter': 300, 'learning_rate': 0.10536783161706706, 'l2_regularization': 0.1, 'max_depth': 1, 'max_leaf_nodes': 30}. Best is trial 6 with value: 572.519743602652.\u001b[0m\n",
            "\u001b[32m[I 2022-02-07 02:56:10,619]\u001b[0m Trial 11 finished with value: 584.9532621126244 and parameters: {'max_iter': 200, 'learning_rate': 0.10529984917666124, 'l2_regularization': 0.001, 'max_depth': 3, 'max_leaf_nodes': 25}. Best is trial 6 with value: 572.519743602652.\u001b[0m\n",
            "\u001b[32m[I 2022-02-07 02:56:36,378]\u001b[0m Trial 12 finished with value: 578.5762209679283 and parameters: {'max_iter': 600, 'learning_rate': 0.13695386344125487, 'l2_regularization': 0.001, 'max_depth': 3, 'max_leaf_nodes': 23}. Best is trial 6 with value: 572.519743602652.\u001b[0m\n",
            "\u001b[32m[I 2022-02-07 02:56:59,780]\u001b[0m Trial 13 finished with value: 575.516713556159 and parameters: {'max_iter': 600, 'learning_rate': 0.13705144781026668, 'l2_regularization': 0.001, 'max_depth': 3, 'max_leaf_nodes': 21}. Best is trial 6 with value: 572.519743602652.\u001b[0m\n",
            "\u001b[32m[I 2022-02-07 02:57:27,551]\u001b[0m Trial 14 finished with value: 599.8761703569522 and parameters: {'max_iter': 600, 'learning_rate': 0.13248625259146535, 'l2_regularization': 0.1, 'max_depth': 4, 'max_leaf_nodes': 19}. Best is trial 6 with value: 572.519743602652.\u001b[0m\n",
            "\u001b[32m[I 2022-02-07 02:57:54,670]\u001b[0m Trial 15 finished with value: 588.5155833304644 and parameters: {'max_iter': 800, 'learning_rate': 0.18871183149949075, 'l2_regularization': 0.001, 'max_depth': 2, 'max_leaf_nodes': 28}. Best is trial 6 with value: 572.519743602652.\u001b[0m\n",
            "\u001b[32m[I 2022-02-07 02:58:23,961]\u001b[0m Trial 16 finished with value: 633.9525470686967 and parameters: {'max_iter': 600, 'learning_rate': 0.13321546249628274, 'l2_regularization': 0.001, 'max_depth': 7, 'max_leaf_nodes': 20}. Best is trial 6 with value: 572.519743602652.\u001b[0m\n",
            "\u001b[32m[I 2022-02-07 02:58:38,605]\u001b[0m Trial 17 finished with value: 611.9229745303627 and parameters: {'max_iter': 300, 'learning_rate': 0.2106905915645314, 'l2_regularization': 0.001, 'max_depth': 4, 'max_leaf_nodes': 14}. Best is trial 6 with value: 572.519743602652.\u001b[0m\n",
            "\u001b[32m[I 2022-02-07 02:58:42,684]\u001b[0m Trial 18 finished with value: 678.2727400873739 and parameters: {'max_iter': 100, 'learning_rate': 0.17087678974648102, 'l2_regularization': 0.1, 'max_depth': 2, 'max_leaf_nodes': 21}. Best is trial 6 with value: 572.519743602652.\u001b[0m\n",
            "\u001b[32m[I 2022-02-07 02:59:23,526]\u001b[0m Trial 19 finished with value: 599.8074196742285 and parameters: {'max_iter': 1000, 'learning_rate': 0.12554469570219057, 'l2_regularization': 0, 'max_depth': 6, 'max_leaf_nodes': 12}. Best is trial 6 with value: 572.519743602652.\u001b[0m\n",
            "\u001b[32m[I 2022-02-07 02:59:48,965]\u001b[0m Trial 20 finished with value: 877.3626367319076 and parameters: {'max_iter': 900, 'learning_rate': 0.15011530741397258, 'l2_regularization': 0.001, 'max_depth': 4, 'max_leaf_nodes': 2}. Best is trial 6 with value: 572.519743602652.\u001b[0m\n",
            "\u001b[32m[I 2022-02-07 03:00:13,529]\u001b[0m Trial 21 finished with value: 577.5909990868872 and parameters: {'max_iter': 600, 'learning_rate': 0.13826807137243136, 'l2_regularization': 0.001, 'max_depth': 3, 'max_leaf_nodes': 23}. Best is trial 6 with value: 572.519743602652.\u001b[0m\n",
            "\u001b[32m[I 2022-02-07 03:00:35,252]\u001b[0m Trial 22 finished with value: 598.3142395457927 and parameters: {'max_iter': 600, 'learning_rate': 0.11832561747665776, 'l2_regularization': 0.001, 'max_depth': 2, 'max_leaf_nodes': 26}. Best is trial 6 with value: 572.519743602652.\u001b[0m\n",
            "\u001b[32m[I 2022-02-07 03:00:58,773]\u001b[0m Trial 23 finished with value: 578.3748981721534 and parameters: {'max_iter': 600, 'learning_rate': 0.14506384896376334, 'l2_regularization': 0.001, 'max_depth': 3, 'max_leaf_nodes': 22}. Best is trial 6 with value: 572.519743602652.\u001b[0m\n",
            "\u001b[32m[I 2022-02-07 03:01:35,817]\u001b[0m Trial 24 finished with value: 619.9448913580427 and parameters: {'max_iter': 800, 'learning_rate': 0.17187859074044434, 'l2_regularization': 0.001, 'max_depth': 4, 'max_leaf_nodes': 23}. Best is trial 6 with value: 572.519743602652.\u001b[0m\n",
            "\u001b[32m[I 2022-02-07 03:01:43,071]\u001b[0m Trial 25 finished with value: 662.89672547682 and parameters: {'max_iter': 200, 'learning_rate': 0.10036537647281649, 'l2_regularization': 0.001, 'max_depth': 2, 'max_leaf_nodes': 18}. Best is trial 6 with value: 572.519743602652.\u001b[0m\n",
            "\u001b[32m[I 2022-02-07 03:02:02,705]\u001b[0m Trial 26 finished with value: 910.3628370140842 and parameters: {'max_iter': 700, 'learning_rate': 0.12333120718778935, 'l2_regularization': 0.001, 'max_depth': 1, 'max_leaf_nodes': 17}. Best is trial 6 with value: 572.519743602652.\u001b[0m\n",
            "\u001b[32m[I 2022-02-07 03:02:24,950]\u001b[0m Trial 27 finished with value: 634.6647684771306 and parameters: {'max_iter': 400, 'learning_rate': 0.15681436724455372, 'l2_regularization': 0.001, 'max_depth': 5, 'max_leaf_nodes': 27}. Best is trial 6 with value: 572.519743602652.\u001b[0m\n",
            "\u001b[32m[I 2022-02-07 03:02:48,383]\u001b[0m Trial 28 finished with value: 589.8205283434215 and parameters: {'max_iter': 600, 'learning_rate': 0.1875919634342723, 'l2_regularization': 0, 'max_depth': 3, 'max_leaf_nodes': 30}. Best is trial 6 with value: 572.519743602652.\u001b[0m\n",
            "\u001b[32m[I 2022-02-07 03:03:19,937]\u001b[0m Trial 29 finished with value: 686.5422147264503 and parameters: {'max_iter': 600, 'learning_rate': 0.23123521722694051, 'l2_regularization': 0.1, 'max_depth': 5, 'max_leaf_nodes': 24}. Best is trial 6 with value: 572.519743602652.\u001b[0m\n",
            "\u001b[32m[I 2022-02-07 03:03:26,338]\u001b[0m Trial 30 finished with value: 590.5829252963244 and parameters: {'max_iter': 100, 'learning_rate': 0.13722277236370545, 'l2_regularization': 0.1, 'max_depth': 10, 'max_leaf_nodes': 21}. Best is trial 6 with value: 572.519743602652.\u001b[0m\n",
            "\u001b[32m[I 2022-02-07 03:03:50,175]\u001b[0m Trial 31 finished with value: 576.328447672303 and parameters: {'max_iter': 600, 'learning_rate': 0.14301750566200702, 'l2_regularization': 0.001, 'max_depth': 3, 'max_leaf_nodes': 22}. Best is trial 6 with value: 572.519743602652.\u001b[0m\n",
            "\u001b[32m[I 2022-02-07 03:04:17,356]\u001b[0m Trial 32 finished with value: 594.8396236655116 and parameters: {'max_iter': 600, 'learning_rate': 0.11785219442934326, 'l2_regularization': 0.001, 'max_depth': 4, 'max_leaf_nodes': 22}. Best is trial 6 with value: 572.519743602652.\u001b[0m\n",
            "\u001b[32m[I 2022-02-07 03:04:49,531]\u001b[0m Trial 33 finished with value: 579.0878422492539 and parameters: {'max_iter': 1000, 'learning_rate': 0.26031006531880635, 'l2_regularization': 0.001, 'max_depth': 2, 'max_leaf_nodes': 16}. Best is trial 6 with value: 572.519743602652.\u001b[0m\n",
            "\u001b[32m[I 2022-02-07 03:05:14,581]\u001b[0m Trial 34 finished with value: 588.4868841136322 and parameters: {'max_iter': 600, 'learning_rate': 0.14372602047261412, 'l2_regularization': 0.001, 'max_depth': 3, 'max_leaf_nodes': 28}. Best is trial 6 with value: 572.519743602652.\u001b[0m\n",
            "\u001b[32m[I 2022-02-07 03:06:00,129]\u001b[0m Trial 35 finished with value: 658.1557878062789 and parameters: {'max_iter': 900, 'learning_rate': 0.1629646901461907, 'l2_regularization': 0.001, 'max_depth': 6, 'max_leaf_nodes': 24}. Best is trial 6 with value: 572.519743602652.\u001b[0m\n",
            "\u001b[32m[I 2022-02-07 03:06:22,270]\u001b[0m Trial 36 finished with value: 609.3432092821315 and parameters: {'max_iter': 500, 'learning_rate': 0.18287172922665257, 'l2_regularization': 0.001, 'max_depth': 4, 'max_leaf_nodes': 20}. Best is trial 6 with value: 572.519743602652.\u001b[0m\n",
            "\u001b[32m[I 2022-02-07 03:06:39,437]\u001b[0m Trial 37 finished with value: 612.7084461666944 and parameters: {'max_iter': 400, 'learning_rate': 0.14747412007316713, 'l2_regularization': 0.001, 'max_depth': 5, 'max_leaf_nodes': 14}. Best is trial 6 with value: 572.519743602652.\u001b[0m\n",
            "\u001b[32m[I 2022-02-07 03:06:56,005]\u001b[0m Trial 38 finished with value: 596.8853643943922 and parameters: {'max_iter': 500, 'learning_rate': 0.20130456352427434, 'l2_regularization': 0, 'max_depth': 2, 'max_leaf_nodes': 17}. Best is trial 6 with value: 572.519743602652.\u001b[0m\n",
            "\u001b[32m[I 2022-02-07 03:07:12,433]\u001b[0m Trial 39 finished with value: 916.6903844267417 and parameters: {'max_iter': 600, 'learning_rate': 0.1777358326305935, 'l2_regularization': 0.001, 'max_depth': 1, 'max_leaf_nodes': 25}. Best is trial 6 with value: 572.519743602652.\u001b[0m\n",
            "\u001b[32m[I 2022-02-07 03:07:35,685]\u001b[0m Trial 40 finished with value: 599.6267277306924 and parameters: {'max_iter': 500, 'learning_rate': 0.11192349026623286, 'l2_regularization': 0.001, 'max_depth': 7, 'max_leaf_nodes': 19}. Best is trial 6 with value: 572.519743602652.\u001b[0m\n",
            "\u001b[32m[I 2022-02-07 03:07:58,274]\u001b[0m Trial 41 finished with value: 581.2705254674603 and parameters: {'max_iter': 600, 'learning_rate': 0.14141347177644903, 'l2_regularization': 0.001, 'max_depth': 3, 'max_leaf_nodes': 22}. Best is trial 6 with value: 572.519743602652.\u001b[0m\n",
            "\u001b[32m[I 2022-02-07 03:08:20,583]\u001b[0m Trial 42 finished with value: 584.5789644651962 and parameters: {'max_iter': 600, 'learning_rate': 0.12781547144473693, 'l2_regularization': 0.001, 'max_depth': 3, 'max_leaf_nodes': 22}. Best is trial 6 with value: 572.519743602652.\u001b[0m\n",
            "\u001b[32m[I 2022-02-07 03:08:43,029]\u001b[0m Trial 43 finished with value: 571.737901487621 and parameters: {'max_iter': 600, 'learning_rate': 0.15686655319820766, 'l2_regularization': 0.001, 'max_depth': 3, 'max_leaf_nodes': 23}. Best is trial 43 with value: 571.737901487621.\u001b[0m\n",
            "\u001b[32m[I 2022-02-07 03:09:05,888]\u001b[0m Trial 44 finished with value: 587.3001206741421 and parameters: {'max_iter': 700, 'learning_rate': 0.15913397670420945, 'l2_regularization': 0.001, 'max_depth': 2, 'max_leaf_nodes': 26}. Best is trial 43 with value: 571.737901487621.\u001b[0m\n",
            "\u001b[32m[I 2022-02-07 03:09:17,692]\u001b[0m Trial 45 finished with value: 580.3578607732327 and parameters: {'max_iter': 300, 'learning_rate': 0.15293248268354387, 'l2_regularization': 0.001, 'max_depth': 3, 'max_leaf_nodes': 24}. Best is trial 43 with value: 571.737901487621.\u001b[0m\n",
            "\u001b[32m[I 2022-02-07 03:09:27,188]\u001b[0m Trial 46 finished with value: 604.7866236856358 and parameters: {'max_iter': 200, 'learning_rate': 0.16366591367260813, 'l2_regularization': 0, 'max_depth': 4, 'max_leaf_nodes': 20}. Best is trial 43 with value: 571.737901487621.\u001b[0m\n",
            "\u001b[32m[I 2022-02-07 03:09:43,175]\u001b[0m Trial 47 finished with value: 929.0892788692945 and parameters: {'max_iter': 600, 'learning_rate': 0.1100705681390767, 'l2_regularization': 0.001, 'max_depth': 1, 'max_leaf_nodes': 27}. Best is trial 43 with value: 571.737901487621.\u001b[0m\n",
            "\u001b[32m[I 2022-02-07 03:10:19,152]\u001b[0m Trial 48 finished with value: 622.197460950532 and parameters: {'max_iter': 800, 'learning_rate': 0.13213134091322085, 'l2_regularization': 0.1, 'max_depth': 4, 'max_leaf_nodes': 23}. Best is trial 43 with value: 571.737901487621.\u001b[0m\n",
            "\u001b[32m[I 2022-02-07 03:10:38,246]\u001b[0m Trial 49 finished with value: 607.4998897138812 and parameters: {'max_iter': 500, 'learning_rate': 0.29593531036393844, 'l2_regularization': 0.001, 'max_depth': 3, 'max_leaf_nodes': 8}. Best is trial 43 with value: 571.737901487621.\u001b[0m\n"
          ]
        }
      ],
      "source": [
        "study = optuna.create_study(direction='minimize')\n",
        "study.optimize(objective, n_trials=50)"
      ]
    },
    {
      "cell_type": "code",
      "execution_count": null,
      "metadata": {
        "colab": {
          "base_uri": "https://localhost:8080/"
        },
        "id": "tdS08kdH1aXh",
        "outputId": "9221fd66-2f77-478d-9da9-3f24784861e9"
      },
      "outputs": [
        {
          "data": {
            "text/plain": [
              "{'l2_regularization': 0.001,\n",
              " 'learning_rate': 0.15686655319820766,\n",
              " 'max_depth': 3,\n",
              " 'max_iter': 600,\n",
              " 'max_leaf_nodes': 23}"
            ]
          },
          "execution_count": 22,
          "metadata": {},
          "output_type": "execute_result"
        }
      ],
      "source": [
        "hgbt_params = study.best_trial.params\n",
        "hgbt_params"
      ]
    },
    {
      "cell_type": "markdown",
      "metadata": {
        "id": "-cafavXZBBP4"
      },
      "source": [
        "### LGBM"
      ]
    },
    {
      "cell_type": "code",
      "execution_count": null,
      "metadata": {
        "id": "0FMsII_WGUz8"
      },
      "outputs": [],
      "source": [
        "#lgbm\n",
        "\n",
        "def objective(trial):\n",
        "    params = {\n",
        "        #\"device_type\": trial.suggest_categorical(\"device_type\", ['gpu']),\n",
        "        'objective': trial.suggest_categorical('objective',['regression','rmse']),#'multiclass','binary']),  \n",
        "        #\"n_estimators\": trial.suggest_categorical(\"n_estimators\", [10000]),\n",
        "        \"learning_rate\": trial.suggest_float(\"learning_rate\", 0.01, 0.3),\n",
        "        \"num_leaves\": trial.suggest_int(\"num_leaves\", 20, 3000, step=20),\n",
        "        \"max_depth\": trial.suggest_int(\"max_depth\", 3, 12),\n",
        "        \"min_data_in_leaf\": trial.suggest_int(\"min_data_in_leaf\", 200, 10000, step=100),\n",
        "        \"lambda_l1\": trial.suggest_int(\"lambda_l1\", 0, 100, step=5),\n",
        "        \"lambda_l2\": trial.suggest_int(\"lambda_l2\", 0, 100, step=5),\n",
        "        \"min_gain_to_split\": trial.suggest_float(\"min_gain_to_split\", 0, 15),\n",
        "        \"bagging_fraction\": trial.suggest_float(\"bagging_fraction\", 0.2, 0.95, step=0.1),\n",
        "        \"bagging_freq\": trial.suggest_categorical(\"bagging_freq\", [1]),\n",
        "        \"feature_fraction\": trial.suggest_float(\"feature_fraction\", 0.2, 0.95, step=0.1),\n",
        "    }\n",
        "    model = MultiOutputRegressor(LGBMRegressor(**params)) \n",
        "    model.fit(x_train,y_train)#,eval_set=[(x_val,y_val)],verbose=False,early_stopping_rounds=100)\n",
        "\n",
        "    y_preds = model.predict(x_val)   \n",
        "    error = mean_squared_error(y_val, y_preds)\n",
        "\n",
        "    return error"
      ]
    },
    {
      "cell_type": "code",
      "execution_count": null,
      "metadata": {
        "colab": {
          "base_uri": "https://localhost:8080/"
        },
        "id": "SEvuv_joKpgB",
        "outputId": "2d50ee2c-6ae8-4af7-8dc7-acc5bb8551ae"
      },
      "outputs": [
        {
          "name": "stderr",
          "output_type": "stream",
          "text": [
            "\u001b[32m[I 2022-02-07 03:18:58,402]\u001b[0m A new study created in memory with name: no-name-d0efd0d3-e55c-45cb-8695-3d1f67293e56\u001b[0m\n",
            "\u001b[32m[I 2022-02-07 03:19:08,713]\u001b[0m Trial 0 finished with value: 612.0708838202335 and parameters: {'objective': 'regression', 'learning_rate': 0.20461828456845563, 'num_leaves': 2260, 'max_depth': 11, 'min_data_in_leaf': 200, 'lambda_l1': 65, 'lambda_l2': 90, 'min_gain_to_split': 13.82412095770749, 'bagging_fraction': 0.5, 'bagging_freq': 1, 'feature_fraction': 0.8}. Best is trial 0 with value: 612.0708838202335.\u001b[0m\n",
            "\u001b[32m[I 2022-02-07 03:19:12,339]\u001b[0m Trial 1 finished with value: 754.7321955891017 and parameters: {'objective': 'rmse', 'learning_rate': 0.22931021176107175, 'num_leaves': 1280, 'max_depth': 10, 'min_data_in_leaf': 3700, 'lambda_l1': 85, 'lambda_l2': 55, 'min_gain_to_split': 13.255666050339244, 'bagging_fraction': 0.30000000000000004, 'bagging_freq': 1, 'feature_fraction': 0.7}. Best is trial 0 with value: 612.0708838202335.\u001b[0m\n",
            "\u001b[32m[I 2022-02-07 03:19:15,881]\u001b[0m Trial 2 finished with value: 1196.034026644698 and parameters: {'objective': 'rmse', 'learning_rate': 0.11744573280384189, 'num_leaves': 2400, 'max_depth': 8, 'min_data_in_leaf': 5400, 'lambda_l1': 65, 'lambda_l2': 100, 'min_gain_to_split': 2.162892573515407, 'bagging_fraction': 0.4, 'bagging_freq': 1, 'feature_fraction': 0.4}. Best is trial 0 with value: 612.0708838202335.\u001b[0m\n",
            "\u001b[32m[I 2022-02-07 03:19:20,289]\u001b[0m Trial 3 finished with value: 693.9095379538552 and parameters: {'objective': 'rmse', 'learning_rate': 0.14304255877398442, 'num_leaves': 420, 'max_depth': 9, 'min_data_in_leaf': 5400, 'lambda_l1': 35, 'lambda_l2': 30, 'min_gain_to_split': 10.553441239573889, 'bagging_fraction': 0.5, 'bagging_freq': 1, 'feature_fraction': 0.8}. Best is trial 0 with value: 612.0708838202335.\u001b[0m\n",
            "\u001b[32m[I 2022-02-07 03:19:22,303]\u001b[0m Trial 4 finished with value: 10893.60915117721 and parameters: {'objective': 'rmse', 'learning_rate': 0.04076331972189685, 'num_leaves': 380, 'max_depth': 6, 'min_data_in_leaf': 7900, 'lambda_l1': 90, 'lambda_l2': 80, 'min_gain_to_split': 6.587315561154265, 'bagging_fraction': 0.2, 'bagging_freq': 1, 'feature_fraction': 0.30000000000000004}. Best is trial 0 with value: 612.0708838202335.\u001b[0m\n",
            "\u001b[32m[I 2022-02-07 03:19:25,990]\u001b[0m Trial 5 finished with value: 756.0205709448566 and parameters: {'objective': 'regression', 'learning_rate': 0.048847215288437947, 'num_leaves': 500, 'max_depth': 12, 'min_data_in_leaf': 600, 'lambda_l1': 60, 'lambda_l2': 95, 'min_gain_to_split': 5.335582720754849, 'bagging_fraction': 0.2, 'bagging_freq': 1, 'feature_fraction': 0.7}. Best is trial 0 with value: 612.0708838202335.\u001b[0m\n",
            "\u001b[32m[I 2022-02-07 03:19:29,259]\u001b[0m Trial 6 finished with value: 877.6972568665318 and parameters: {'objective': 'rmse', 'learning_rate': 0.2573486777195674, 'num_leaves': 580, 'max_depth': 3, 'min_data_in_leaf': 6600, 'lambda_l1': 60, 'lambda_l2': 15, 'min_gain_to_split': 5.72248186315301, 'bagging_fraction': 0.5, 'bagging_freq': 1, 'feature_fraction': 0.4}. Best is trial 0 with value: 612.0708838202335.\u001b[0m\n",
            "\u001b[32m[I 2022-02-07 03:19:31,936]\u001b[0m Trial 7 finished with value: 1881.9276759211205 and parameters: {'objective': 'regression', 'learning_rate': 0.17902140925915347, 'num_leaves': 1740, 'max_depth': 10, 'min_data_in_leaf': 8700, 'lambda_l1': 35, 'lambda_l2': 70, 'min_gain_to_split': 13.519589051221375, 'bagging_fraction': 0.9, 'bagging_freq': 1, 'feature_fraction': 0.2}. Best is trial 0 with value: 612.0708838202335.\u001b[0m\n",
            "\u001b[32m[I 2022-02-07 03:19:35,328]\u001b[0m Trial 8 finished with value: 635.5679037373233 and parameters: {'objective': 'regression', 'learning_rate': 0.17139518115263494, 'num_leaves': 2400, 'max_depth': 3, 'min_data_in_leaf': 600, 'lambda_l1': 40, 'lambda_l2': 20, 'min_gain_to_split': 8.251763500146994, 'bagging_fraction': 0.9, 'bagging_freq': 1, 'feature_fraction': 0.7}. Best is trial 0 with value: 612.0708838202335.\u001b[0m\n",
            "\u001b[32m[I 2022-02-07 03:19:38,509]\u001b[0m Trial 9 finished with value: 779.7809130487944 and parameters: {'objective': 'regression', 'learning_rate': 0.27349531536690525, 'num_leaves': 2720, 'max_depth': 11, 'min_data_in_leaf': 8800, 'lambda_l1': 85, 'lambda_l2': 10, 'min_gain_to_split': 4.466484481574753, 'bagging_fraction': 0.6000000000000001, 'bagging_freq': 1, 'feature_fraction': 0.5}. Best is trial 0 with value: 612.0708838202335.\u001b[0m\n",
            "\u001b[32m[I 2022-02-07 03:19:42,847]\u001b[0m Trial 10 finished with value: 598.7436122508484 and parameters: {'objective': 'regression', 'learning_rate': 0.21539063613923376, 'num_leaves': 1680, 'max_depth': 6, 'min_data_in_leaf': 2700, 'lambda_l1': 0, 'lambda_l2': 45, 'min_gain_to_split': 14.989601777955874, 'bagging_fraction': 0.7, 'bagging_freq': 1, 'feature_fraction': 0.9}. Best is trial 10 with value: 598.7436122508484.\u001b[0m\n",
            "\u001b[32m[I 2022-02-07 03:19:47,150]\u001b[0m Trial 11 finished with value: 596.3192468163116 and parameters: {'objective': 'regression', 'learning_rate': 0.2026969838341306, 'num_leaves': 1720, 'max_depth': 6, 'min_data_in_leaf': 3000, 'lambda_l1': 0, 'lambda_l2': 45, 'min_gain_to_split': 14.922957782437733, 'bagging_fraction': 0.7, 'bagging_freq': 1, 'feature_fraction': 0.9}. Best is trial 11 with value: 596.3192468163116.\u001b[0m\n",
            "\u001b[32m[I 2022-02-07 03:19:51,581]\u001b[0m Trial 12 finished with value: 611.2523855870628 and parameters: {'objective': 'regression', 'learning_rate': 0.11720084846519552, 'num_leaves': 1420, 'max_depth': 6, 'min_data_in_leaf': 3000, 'lambda_l1': 0, 'lambda_l2': 40, 'min_gain_to_split': 11.083432836394582, 'bagging_fraction': 0.7, 'bagging_freq': 1, 'feature_fraction': 0.9}. Best is trial 11 with value: 596.3192468163116.\u001b[0m\n",
            "\u001b[32m[I 2022-02-07 03:19:56,104]\u001b[0m Trial 13 finished with value: 600.5948985914374 and parameters: {'objective': 'regression', 'learning_rate': 0.2998257219939152, 'num_leaves': 1840, 'max_depth': 6, 'min_data_in_leaf': 2600, 'lambda_l1': 0, 'lambda_l2': 50, 'min_gain_to_split': 10.722587128083635, 'bagging_fraction': 0.7, 'bagging_freq': 1, 'feature_fraction': 0.9}. Best is trial 11 with value: 596.3192468163116.\u001b[0m\n",
            "\u001b[32m[I 2022-02-07 03:20:00,336]\u001b[0m Trial 14 finished with value: 587.4816925266713 and parameters: {'objective': 'regression', 'learning_rate': 0.2317367134580513, 'num_leaves': 1060, 'max_depth': 5, 'min_data_in_leaf': 2200, 'lambda_l1': 20, 'lambda_l2': 60, 'min_gain_to_split': 14.73766020919365, 'bagging_fraction': 0.7, 'bagging_freq': 1, 'feature_fraction': 0.9}. Best is trial 14 with value: 587.4816925266713.\u001b[0m\n",
            "\u001b[32m[I 2022-02-07 03:20:03,913]\u001b[0m Trial 15 finished with value: 617.9836790489292 and parameters: {'objective': 'regression', 'learning_rate': 0.24268903566896646, 'num_leaves': 980, 'max_depth': 4, 'min_data_in_leaf': 1800, 'lambda_l1': 15, 'lambda_l2': 65, 'min_gain_to_split': 8.647974883087759, 'bagging_fraction': 0.8, 'bagging_freq': 1, 'feature_fraction': 0.6000000000000001}. Best is trial 14 with value: 587.4816925266713.\u001b[0m\n",
            "\u001b[32m[I 2022-02-07 03:20:07,995]\u001b[0m Trial 16 finished with value: 618.8484915027976 and parameters: {'objective': 'regression', 'learning_rate': 0.19724022176041484, 'num_leaves': 1060, 'max_depth': 5, 'min_data_in_leaf': 4600, 'lambda_l1': 20, 'lambda_l2': 65, 'min_gain_to_split': 0.3678327658122038, 'bagging_fraction': 0.8, 'bagging_freq': 1, 'feature_fraction': 0.8}. Best is trial 14 with value: 587.4816925266713.\u001b[0m\n",
            "\u001b[32m[I 2022-02-07 03:20:12,747]\u001b[0m Trial 17 finished with value: 678.4250448890542 and parameters: {'objective': 'regression', 'learning_rate': 0.08605523609100357, 'num_leaves': 860, 'max_depth': 8, 'min_data_in_leaf': 1600, 'lambda_l1': 20, 'lambda_l2': 30, 'min_gain_to_split': 12.015773928020868, 'bagging_fraction': 0.6000000000000001, 'bagging_freq': 1, 'feature_fraction': 0.6000000000000001}. Best is trial 14 with value: 587.4816925266713.\u001b[0m\n",
            "\u001b[32m[I 2022-02-07 03:20:17,066]\u001b[0m Trial 18 finished with value: 607.3910791976352 and parameters: {'objective': 'regression', 'learning_rate': 0.14750712489709772, 'num_leaves': 1940, 'max_depth': 5, 'min_data_in_leaf': 4200, 'lambda_l1': 15, 'lambda_l2': 80, 'min_gain_to_split': 14.975333825813882, 'bagging_fraction': 0.8, 'bagging_freq': 1, 'feature_fraction': 0.9}. Best is trial 14 with value: 587.4816925266713.\u001b[0m\n",
            "\u001b[32m[I 2022-02-07 03:20:20,849]\u001b[0m Trial 19 finished with value: 664.2761869678253 and parameters: {'objective': 'regression', 'learning_rate': 0.27577878503868836, 'num_leaves': 120, 'max_depth': 7, 'min_data_in_leaf': 6500, 'lambda_l1': 25, 'lambda_l2': 0, 'min_gain_to_split': 12.327825272802842, 'bagging_fraction': 0.6000000000000001, 'bagging_freq': 1, 'feature_fraction': 0.8}. Best is trial 14 with value: 587.4816925266713.\u001b[0m\n",
            "\u001b[32m[I 2022-02-07 03:20:25,220]\u001b[0m Trial 20 finished with value: 654.0045931353669 and parameters: {'objective': 'regression', 'learning_rate': 0.18306464597155814, 'num_leaves': 1340, 'max_depth': 4, 'min_data_in_leaf': 1800, 'lambda_l1': 45, 'lambda_l2': 35, 'min_gain_to_split': 9.313114431381994, 'bagging_fraction': 0.7, 'bagging_freq': 1, 'feature_fraction': 0.5}. Best is trial 14 with value: 587.4816925266713.\u001b[0m\n",
            "\u001b[32m[I 2022-02-07 03:20:29,859]\u001b[0m Trial 21 finished with value: 587.4424557759731 and parameters: {'objective': 'regression', 'learning_rate': 0.222434482722137, 'num_leaves': 1660, 'max_depth': 7, 'min_data_in_leaf': 3100, 'lambda_l1': 5, 'lambda_l2': 50, 'min_gain_to_split': 14.97995298416068, 'bagging_fraction': 0.7, 'bagging_freq': 1, 'feature_fraction': 0.9}. Best is trial 21 with value: 587.4424557759731.\u001b[0m\n",
            "\u001b[32m[I 2022-02-07 03:20:34,662]\u001b[0m Trial 22 finished with value: 593.1105255582819 and parameters: {'objective': 'regression', 'learning_rate': 0.23177887123044782, 'num_leaves': 2060, 'max_depth': 7, 'min_data_in_leaf': 3500, 'lambda_l1': 10, 'lambda_l2': 55, 'min_gain_to_split': 14.829116287388336, 'bagging_fraction': 0.8, 'bagging_freq': 1, 'feature_fraction': 0.9}. Best is trial 21 with value: 587.4424557759731.\u001b[0m\n",
            "\u001b[32m[I 2022-02-07 03:20:39,295]\u001b[0m Trial 23 finished with value: 602.3090981588072 and parameters: {'objective': 'regression', 'learning_rate': 0.234504642977718, 'num_leaves': 2060, 'max_depth': 7, 'min_data_in_leaf': 3700, 'lambda_l1': 10, 'lambda_l2': 55, 'min_gain_to_split': 13.489538227579901, 'bagging_fraction': 0.8, 'bagging_freq': 1, 'feature_fraction': 0.8}. Best is trial 21 with value: 587.4424557759731.\u001b[0m\n",
            "\u001b[32m[I 2022-02-07 03:20:44,234]\u001b[0m Trial 24 finished with value: 603.0329546063164 and parameters: {'objective': 'regression', 'learning_rate': 0.2569779748549484, 'num_leaves': 2120, 'max_depth': 8, 'min_data_in_leaf': 1600, 'lambda_l1': 30, 'lambda_l2': 60, 'min_gain_to_split': 12.459908214585175, 'bagging_fraction': 0.9, 'bagging_freq': 1, 'feature_fraction': 0.7}. Best is trial 21 with value: 587.4424557759731.\u001b[0m\n",
            "\u001b[32m[I 2022-02-07 03:20:48,434]\u001b[0m Trial 25 finished with value: 610.7293036002104 and parameters: {'objective': 'regression', 'learning_rate': 0.2991359524863242, 'num_leaves': 2720, 'max_depth': 5, 'min_data_in_leaf': 3700, 'lambda_l1': 5, 'lambda_l2': 70, 'min_gain_to_split': 9.834324540887165, 'bagging_fraction': 0.8, 'bagging_freq': 1, 'feature_fraction': 0.9}. Best is trial 21 with value: 587.4424557759731.\u001b[0m\n",
            "\u001b[32m[I 2022-02-07 03:20:51,700]\u001b[0m Trial 26 finished with value: 781.546778872748 and parameters: {'objective': 'rmse', 'learning_rate': 0.2254677824508927, 'num_leaves': 1560, 'max_depth': 7, 'min_data_in_leaf': 9900, 'lambda_l1': 10, 'lambda_l2': 80, 'min_gain_to_split': 14.026393567039795, 'bagging_fraction': 0.6000000000000001, 'bagging_freq': 1, 'feature_fraction': 0.8}. Best is trial 21 with value: 587.4424557759731.\u001b[0m\n",
            "\u001b[32m[I 2022-02-07 03:20:56,247]\u001b[0m Trial 27 finished with value: 631.7241570003333 and parameters: {'objective': 'regression', 'learning_rate': 0.2524462197169933, 'num_leaves': 1160, 'max_depth': 9, 'min_data_in_leaf': 5000, 'lambda_l1': 25, 'lambda_l2': 50, 'min_gain_to_split': 12.013827996676484, 'bagging_fraction': 0.7, 'bagging_freq': 1, 'feature_fraction': 0.9}. Best is trial 21 with value: 587.4424557759731.\u001b[0m\n",
            "\u001b[32m[I 2022-02-07 03:20:59,643]\u001b[0m Trial 28 finished with value: 666.4994444664384 and parameters: {'objective': 'regression', 'learning_rate': 0.28170282382422335, 'num_leaves': 720, 'max_depth': 4, 'min_data_in_leaf': 6300, 'lambda_l1': 10, 'lambda_l2': 60, 'min_gain_to_split': 11.651110391034528, 'bagging_fraction': 0.8, 'bagging_freq': 1, 'feature_fraction': 0.6000000000000001}. Best is trial 21 with value: 587.4424557759731.\u001b[0m\n",
            "\u001b[32m[I 2022-02-07 03:21:03,411]\u001b[0m Trial 29 finished with value: 6316.751664061009 and parameters: {'objective': 'regression', 'learning_rate': 0.014423778379625718, 'num_leaves': 1520, 'max_depth': 9, 'min_data_in_leaf': 2200, 'lambda_l1': 50, 'lambda_l2': 75, 'min_gain_to_split': 14.037907254750138, 'bagging_fraction': 0.4, 'bagging_freq': 1, 'feature_fraction': 0.8}. Best is trial 21 with value: 587.4424557759731.\u001b[0m\n",
            "\u001b[32m[I 2022-02-07 03:21:08,469]\u001b[0m Trial 30 finished with value: 611.9731386093526 and parameters: {'objective': 'regression', 'learning_rate': 0.19959950156757622, 'num_leaves': 2280, 'max_depth': 7, 'min_data_in_leaf': 500, 'lambda_l1': 20, 'lambda_l2': 85, 'min_gain_to_split': 12.975690912962563, 'bagging_fraction': 0.9, 'bagging_freq': 1, 'feature_fraction': 0.7}. Best is trial 21 with value: 587.4424557759731.\u001b[0m\n",
            "\u001b[32m[I 2022-02-07 03:21:12,566]\u001b[0m Trial 31 finished with value: 600.5613695688518 and parameters: {'objective': 'regression', 'learning_rate': 0.21014358016287438, 'num_leaves': 1920, 'max_depth': 5, 'min_data_in_leaf': 3300, 'lambda_l1': 5, 'lambda_l2': 45, 'min_gain_to_split': 14.740063099030422, 'bagging_fraction': 0.7, 'bagging_freq': 1, 'feature_fraction': 0.9}. Best is trial 21 with value: 587.4424557759731.\u001b[0m\n",
            "\u001b[32m[I 2022-02-07 03:21:16,675]\u001b[0m Trial 32 finished with value: 623.591024394961 and parameters: {'objective': 'regression', 'learning_rate': 0.2188240174612934, 'num_leaves': 1240, 'max_depth': 6, 'min_data_in_leaf': 4000, 'lambda_l1': 5, 'lambda_l2': 40, 'min_gain_to_split': 14.283567846286175, 'bagging_fraction': 0.6000000000000001, 'bagging_freq': 1, 'feature_fraction': 0.9}. Best is trial 21 with value: 587.4424557759731.\u001b[0m\n",
            "\u001b[32m[I 2022-02-07 03:21:21,460]\u001b[0m Trial 33 finished with value: 597.6885239263592 and parameters: {'objective': 'regression', 'learning_rate': 0.1980304942335613, 'num_leaves': 1660, 'max_depth': 8, 'min_data_in_leaf': 2400, 'lambda_l1': 75, 'lambda_l2': 55, 'min_gain_to_split': 13.104141111557833, 'bagging_fraction': 0.7, 'bagging_freq': 1, 'feature_fraction': 0.8}. Best is trial 21 with value: 587.4424557759731.\u001b[0m\n",
            "\u001b[32m[I 2022-02-07 03:21:26,025]\u001b[0m Trial 34 finished with value: 641.9813924017368 and parameters: {'objective': 'rmse', 'learning_rate': 0.1622560146156647, 'num_leaves': 2540, 'max_depth': 7, 'min_data_in_leaf': 3200, 'lambda_l1': 15, 'lambda_l2': 25, 'min_gain_to_split': 13.879146358341146, 'bagging_fraction': 0.4, 'bagging_freq': 1, 'feature_fraction': 0.9}. Best is trial 21 with value: 587.4424557759731.\u001b[0m\n",
            "\u001b[32m[I 2022-02-07 03:21:31,475]\u001b[0m Trial 35 finished with value: 601.4136826502282 and parameters: {'objective': 'rmse', 'learning_rate': 0.23477247688976546, 'num_leaves': 2160, 'max_depth': 6, 'min_data_in_leaf': 1200, 'lambda_l1': 100, 'lambda_l2': 50, 'min_gain_to_split': 12.867304702666834, 'bagging_fraction': 0.5, 'bagging_freq': 1, 'feature_fraction': 0.8}. Best is trial 21 with value: 587.4424557759731.\u001b[0m\n",
            "\u001b[32m[I 2022-02-07 03:21:35,729]\u001b[0m Trial 36 finished with value: 624.1882440190312 and parameters: {'objective': 'regression', 'learning_rate': 0.13106451499978278, 'num_leaves': 1440, 'max_depth': 5, 'min_data_in_leaf': 4600, 'lambda_l1': 0, 'lambda_l2': 40, 'min_gain_to_split': 3.3374361265736425, 'bagging_fraction': 0.8, 'bagging_freq': 1, 'feature_fraction': 0.8}. Best is trial 21 with value: 587.4424557759731.\u001b[0m\n",
            "\u001b[32m[I 2022-02-07 03:21:40,240]\u001b[0m Trial 37 finished with value: 638.7698640428266 and parameters: {'objective': 'rmse', 'learning_rate': 0.18708987450153552, 'num_leaves': 1880, 'max_depth': 8, 'min_data_in_leaf': 5800, 'lambda_l1': 25, 'lambda_l2': 60, 'min_gain_to_split': 11.313749011018935, 'bagging_fraction': 0.7, 'bagging_freq': 1, 'feature_fraction': 0.9}. Best is trial 21 with value: 587.4424557759731.\u001b[0m\n",
            "\u001b[32m[I 2022-02-07 03:21:43,948]\u001b[0m Trial 38 finished with value: 690.471727957431 and parameters: {'objective': 'regression', 'learning_rate': 0.24637247586122213, 'num_leaves': 2920, 'max_depth': 4, 'min_data_in_leaf': 3000, 'lambda_l1': 10, 'lambda_l2': 35, 'min_gain_to_split': 7.129594342735345, 'bagging_fraction': 0.30000000000000004, 'bagging_freq': 1, 'feature_fraction': 0.7}. Best is trial 21 with value: 587.4424557759731.\u001b[0m\n",
            "\u001b[32m[I 2022-02-07 03:21:47,936]\u001b[0m Trial 39 finished with value: 1011.3101911245504 and parameters: {'objective': 'regression', 'learning_rate': 0.16567425172408645, 'num_leaves': 2320, 'max_depth': 10, 'min_data_in_leaf': 2200, 'lambda_l1': 35, 'lambda_l2': 70, 'min_gain_to_split': 14.403574414261588, 'bagging_fraction': 0.6000000000000001, 'bagging_freq': 1, 'feature_fraction': 0.2}. Best is trial 21 with value: 587.4424557759731.\u001b[0m\n",
            "\u001b[32m[I 2022-02-07 03:21:51,934]\u001b[0m Trial 40 finished with value: 696.8458360935929 and parameters: {'objective': 'rmse', 'learning_rate': 0.2697336279208542, 'num_leaves': 1220, 'max_depth': 6, 'min_data_in_leaf': 1000, 'lambda_l1': 5, 'lambda_l2': 100, 'min_gain_to_split': 10.06925473491593, 'bagging_fraction': 0.9, 'bagging_freq': 1, 'feature_fraction': 0.30000000000000004}. Best is trial 21 with value: 587.4424557759731.\u001b[0m\n",
            "\u001b[32m[I 2022-02-07 03:21:57,022]\u001b[0m Trial 41 finished with value: 590.0313964263175 and parameters: {'objective': 'regression', 'learning_rate': 0.19534799422060545, 'num_leaves': 1660, 'max_depth': 8, 'min_data_in_leaf': 2400, 'lambda_l1': 75, 'lambda_l2': 55, 'min_gain_to_split': 13.013187587780802, 'bagging_fraction': 0.7, 'bagging_freq': 1, 'feature_fraction': 0.9}. Best is trial 21 with value: 587.4424557759731.\u001b[0m\n",
            "\u001b[32m[I 2022-02-07 03:22:01,934]\u001b[0m Trial 42 finished with value: 595.5280186436847 and parameters: {'objective': 'regression', 'learning_rate': 0.22297839380113166, 'num_leaves': 1700, 'max_depth': 9, 'min_data_in_leaf': 3400, 'lambda_l1': 75, 'lambda_l2': 50, 'min_gain_to_split': 13.538567494748063, 'bagging_fraction': 0.7, 'bagging_freq': 1, 'feature_fraction': 0.9}. Best is trial 21 with value: 587.4424557759731.\u001b[0m\n",
            "\u001b[32m[I 2022-02-07 03:22:07,042]\u001b[0m Trial 43 finished with value: 592.4474887048481 and parameters: {'objective': 'regression', 'learning_rate': 0.2215386640818625, 'num_leaves': 1600, 'max_depth': 10, 'min_data_in_leaf': 3500, 'lambda_l1': 75, 'lambda_l2': 55, 'min_gain_to_split': 13.59276350466759, 'bagging_fraction': 0.8, 'bagging_freq': 1, 'feature_fraction': 0.9}. Best is trial 21 with value: 587.4424557759731.\u001b[0m\n",
            "\u001b[32m[I 2022-02-07 03:22:11,893]\u001b[0m Trial 44 finished with value: 609.0138695521573 and parameters: {'objective': 'regression', 'learning_rate': 0.23335360992930346, 'num_leaves': 1560, 'max_depth': 11, 'min_data_in_leaf': 4100, 'lambda_l1': 70, 'lambda_l2': 55, 'min_gain_to_split': 13.089051485043255, 'bagging_fraction': 0.8, 'bagging_freq': 1, 'feature_fraction': 0.8}. Best is trial 21 with value: 587.4424557759731.\u001b[0m\n",
            "\u001b[32m[I 2022-02-07 03:22:17,842]\u001b[0m Trial 45 finished with value: 594.0906927210465 and parameters: {'objective': 'regression', 'learning_rate': 0.21155657830545427, 'num_leaves': 2040, 'max_depth': 12, 'min_data_in_leaf': 1200, 'lambda_l1': 85, 'lambda_l2': 65, 'min_gain_to_split': 14.256648615128949, 'bagging_fraction': 0.9, 'bagging_freq': 1, 'feature_fraction': 0.9}. Best is trial 21 with value: 587.4424557759731.\u001b[0m\n",
            "\u001b[32m[I 2022-02-07 03:22:22,692]\u001b[0m Trial 46 finished with value: 598.355231663796 and parameters: {'objective': 'regression', 'learning_rate': 0.18340535068473046, 'num_leaves': 1380, 'max_depth': 9, 'min_data_in_leaf': 2700, 'lambda_l1': 55, 'lambda_l2': 45, 'min_gain_to_split': 12.58908199732395, 'bagging_fraction': 0.8, 'bagging_freq': 1, 'feature_fraction': 0.8}. Best is trial 21 with value: 587.4424557759731.\u001b[0m\n",
            "\u001b[32m[I 2022-02-07 03:22:27,275]\u001b[0m Trial 47 finished with value: 608.1665384780275 and parameters: {'objective': 'regression', 'learning_rate': 0.261973128684352, 'num_leaves': 900, 'max_depth': 10, 'min_data_in_leaf': 4600, 'lambda_l1': 65, 'lambda_l2': 60, 'min_gain_to_split': 13.640024877656751, 'bagging_fraction': 0.8, 'bagging_freq': 1, 'feature_fraction': 0.9}. Best is trial 21 with value: 587.4424557759731.\u001b[0m\n",
            "\u001b[32m[I 2022-02-07 03:22:32,464]\u001b[0m Trial 48 finished with value: 653.5765698941271 and parameters: {'objective': 'regression', 'learning_rate': 0.24595080767338218, 'num_leaves': 1800, 'max_depth': 11, 'min_data_in_leaf': 2100, 'lambda_l1': 100, 'lambda_l2': 75, 'min_gain_to_split': 14.960600504904605, 'bagging_fraction': 0.5, 'bagging_freq': 1, 'feature_fraction': 0.4}. Best is trial 21 with value: 587.4424557759731.\u001b[0m\n",
            "\u001b[32m[I 2022-02-07 03:22:35,732]\u001b[0m Trial 49 finished with value: 620.5550254596754 and parameters: {'objective': 'regression', 'learning_rate': 0.19018899472490777, 'num_leaves': 1100, 'max_depth': 3, 'min_data_in_leaf': 2700, 'lambda_l1': 90, 'lambda_l2': 55, 'min_gain_to_split': 11.633332942516706, 'bagging_fraction': 0.6000000000000001, 'bagging_freq': 1, 'feature_fraction': 0.9}. Best is trial 21 with value: 587.4424557759731.\u001b[0m\n"
          ]
        }
      ],
      "source": [
        "study = optuna.create_study(direction='minimize')\n",
        "study.optimize(objective, n_trials=50)"
      ]
    },
    {
      "cell_type": "code",
      "execution_count": null,
      "metadata": {
        "colab": {
          "base_uri": "https://localhost:8080/"
        },
        "id": "czAnSoC_NfZo",
        "outputId": "7f5babe7-bc1f-4c91-b24c-c0539f980430"
      },
      "outputs": [
        {
          "data": {
            "text/plain": [
              "{'bagging_fraction': 0.7,\n",
              " 'bagging_freq': 1,\n",
              " 'feature_fraction': 0.9,\n",
              " 'lambda_l1': 5,\n",
              " 'lambda_l2': 50,\n",
              " 'learning_rate': 0.222434482722137,\n",
              " 'max_depth': 7,\n",
              " 'min_data_in_leaf': 3100,\n",
              " 'min_gain_to_split': 14.97995298416068,\n",
              " 'num_leaves': 1660,\n",
              " 'objective': 'regression'}"
            ]
          },
          "execution_count": 40,
          "metadata": {},
          "output_type": "execute_result"
        }
      ],
      "source": [
        "lgbm_params = study.best_trial.params\n",
        "lgbm_params"
      ]
    },
    {
      "cell_type": "markdown",
      "metadata": {
        "id": "-0wqYw-ZBGVA"
      },
      "source": [
        "## Blending\n",
        "\n",
        "Saya tidak akan mengunakan crossvalidation (kfold), karena untuk mencegah kebocoran data"
      ]
    },
    {
      "cell_type": "code",
      "execution_count": null,
      "metadata": {
        "colab": {
          "base_uri": "https://localhost:8080/",
          "height": 517
        },
        "id": "TN1R6mnqBdqK",
        "outputId": "59b2e959-f124-4ca4-c041-d02d0e63bf64"
      },
      "outputs": [
        {
          "data": {
            "text/html": [
              "\n",
              "  <div id=\"df-c0059b4b-27d4-43e3-a63a-1889738661d2\">\n",
              "    <div class=\"colab-df-container\">\n",
              "      <div>\n",
              "<style scoped>\n",
              "    .dataframe tbody tr th:only-of-type {\n",
              "        vertical-align: middle;\n",
              "    }\n",
              "\n",
              "    .dataframe tbody tr th {\n",
              "        vertical-align: top;\n",
              "    }\n",
              "\n",
              "    .dataframe thead th {\n",
              "        text-align: right;\n",
              "    }\n",
              "</style>\n",
              "<table border=\"1\" class=\"dataframe\">\n",
              "  <thead>\n",
              "    <tr style=\"text-align: right;\">\n",
              "      <th></th>\n",
              "      <th>Year</th>\n",
              "      <th>Month</th>\n",
              "      <th>Day</th>\n",
              "      <th>Hour</th>\n",
              "      <th>Minute</th>\n",
              "      <th>Cloud Type</th>\n",
              "      <th>Dew Point</th>\n",
              "      <th>Temperature</th>\n",
              "      <th>Pressure</th>\n",
              "      <th>Relative Humidity</th>\n",
              "      <th>Solar Zenith Angle</th>\n",
              "      <th>Precipitable Water</th>\n",
              "      <th>Wind Direction</th>\n",
              "      <th>Wind Speed</th>\n",
              "      <th>Fill Flag</th>\n",
              "      <th>new</th>\n",
              "      <th>new_1</th>\n",
              "    </tr>\n",
              "  </thead>\n",
              "  <tbody>\n",
              "    <tr>\n",
              "      <th>0</th>\n",
              "      <td>2019</td>\n",
              "      <td>1</td>\n",
              "      <td>1</td>\n",
              "      <td>0</td>\n",
              "      <td>0</td>\n",
              "      <td>7</td>\n",
              "      <td>18.4</td>\n",
              "      <td>18.8</td>\n",
              "      <td>1008</td>\n",
              "      <td>97.70</td>\n",
              "      <td>106.23</td>\n",
              "      <td>3.5</td>\n",
              "      <td>190</td>\n",
              "      <td>2.3</td>\n",
              "      <td>0</td>\n",
              "      <td>19.833333</td>\n",
              "      <td>3.045833</td>\n",
              "    </tr>\n",
              "    <tr>\n",
              "      <th>1</th>\n",
              "      <td>2019</td>\n",
              "      <td>1</td>\n",
              "      <td>1</td>\n",
              "      <td>0</td>\n",
              "      <td>30</td>\n",
              "      <td>3</td>\n",
              "      <td>18.4</td>\n",
              "      <td>18.6</td>\n",
              "      <td>1008</td>\n",
              "      <td>98.92</td>\n",
              "      <td>112.36</td>\n",
              "      <td>3.5</td>\n",
              "      <td>187</td>\n",
              "      <td>2.5</td>\n",
              "      <td>0</td>\n",
              "      <td>19.833333</td>\n",
              "      <td>3.045833</td>\n",
              "    </tr>\n",
              "    <tr>\n",
              "      <th>2</th>\n",
              "      <td>2019</td>\n",
              "      <td>1</td>\n",
              "      <td>1</td>\n",
              "      <td>1</td>\n",
              "      <td>0</td>\n",
              "      <td>3</td>\n",
              "      <td>18.2</td>\n",
              "      <td>18.5</td>\n",
              "      <td>1008</td>\n",
              "      <td>98.35</td>\n",
              "      <td>118.58</td>\n",
              "      <td>3.5</td>\n",
              "      <td>184</td>\n",
              "      <td>2.8</td>\n",
              "      <td>0</td>\n",
              "      <td>19.833333</td>\n",
              "      <td>3.045833</td>\n",
              "    </tr>\n",
              "    <tr>\n",
              "      <th>3</th>\n",
              "      <td>2019</td>\n",
              "      <td>1</td>\n",
              "      <td>1</td>\n",
              "      <td>1</td>\n",
              "      <td>30</td>\n",
              "      <td>3</td>\n",
              "      <td>18.2</td>\n",
              "      <td>18.3</td>\n",
              "      <td>1008</td>\n",
              "      <td>99.58</td>\n",
              "      <td>124.86</td>\n",
              "      <td>3.5</td>\n",
              "      <td>185</td>\n",
              "      <td>3.0</td>\n",
              "      <td>0</td>\n",
              "      <td>19.833333</td>\n",
              "      <td>3.045833</td>\n",
              "    </tr>\n",
              "    <tr>\n",
              "      <th>4</th>\n",
              "      <td>2019</td>\n",
              "      <td>1</td>\n",
              "      <td>1</td>\n",
              "      <td>2</td>\n",
              "      <td>0</td>\n",
              "      <td>0</td>\n",
              "      <td>18.0</td>\n",
              "      <td>18.0</td>\n",
              "      <td>1008</td>\n",
              "      <td>99.71</td>\n",
              "      <td>131.20</td>\n",
              "      <td>3.6</td>\n",
              "      <td>186</td>\n",
              "      <td>3.1</td>\n",
              "      <td>0</td>\n",
              "      <td>19.833333</td>\n",
              "      <td>3.045833</td>\n",
              "    </tr>\n",
              "    <tr>\n",
              "      <th>...</th>\n",
              "      <td>...</td>\n",
              "      <td>...</td>\n",
              "      <td>...</td>\n",
              "      <td>...</td>\n",
              "      <td>...</td>\n",
              "      <td>...</td>\n",
              "      <td>...</td>\n",
              "      <td>...</td>\n",
              "      <td>...</td>\n",
              "      <td>...</td>\n",
              "      <td>...</td>\n",
              "      <td>...</td>\n",
              "      <td>...</td>\n",
              "      <td>...</td>\n",
              "      <td>...</td>\n",
              "      <td>...</td>\n",
              "      <td>...</td>\n",
              "    </tr>\n",
              "    <tr>\n",
              "      <th>17515</th>\n",
              "      <td>2019</td>\n",
              "      <td>12</td>\n",
              "      <td>31</td>\n",
              "      <td>21</td>\n",
              "      <td>30</td>\n",
              "      <td>0</td>\n",
              "      <td>5.6</td>\n",
              "      <td>11.1</td>\n",
              "      <td>1006</td>\n",
              "      <td>68.64</td>\n",
              "      <td>77.89</td>\n",
              "      <td>0.8</td>\n",
              "      <td>276</td>\n",
              "      <td>2.2</td>\n",
              "      <td>0</td>\n",
              "      <td>8.360417</td>\n",
              "      <td>2.639583</td>\n",
              "    </tr>\n",
              "    <tr>\n",
              "      <th>17516</th>\n",
              "      <td>2019</td>\n",
              "      <td>12</td>\n",
              "      <td>31</td>\n",
              "      <td>22</td>\n",
              "      <td>0</td>\n",
              "      <td>0</td>\n",
              "      <td>5.7</td>\n",
              "      <td>9.3</td>\n",
              "      <td>1006</td>\n",
              "      <td>78.31</td>\n",
              "      <td>83.06</td>\n",
              "      <td>0.8</td>\n",
              "      <td>274</td>\n",
              "      <td>1.7</td>\n",
              "      <td>0</td>\n",
              "      <td>8.360417</td>\n",
              "      <td>2.639583</td>\n",
              "    </tr>\n",
              "    <tr>\n",
              "      <th>17517</th>\n",
              "      <td>2019</td>\n",
              "      <td>12</td>\n",
              "      <td>31</td>\n",
              "      <td>22</td>\n",
              "      <td>30</td>\n",
              "      <td>0</td>\n",
              "      <td>5.7</td>\n",
              "      <td>8.5</td>\n",
              "      <td>1006</td>\n",
              "      <td>82.64</td>\n",
              "      <td>88.34</td>\n",
              "      <td>0.8</td>\n",
              "      <td>273</td>\n",
              "      <td>1.8</td>\n",
              "      <td>0</td>\n",
              "      <td>8.360417</td>\n",
              "      <td>2.639583</td>\n",
              "    </tr>\n",
              "    <tr>\n",
              "      <th>17518</th>\n",
              "      <td>2019</td>\n",
              "      <td>12</td>\n",
              "      <td>31</td>\n",
              "      <td>23</td>\n",
              "      <td>0</td>\n",
              "      <td>0</td>\n",
              "      <td>4.8</td>\n",
              "      <td>7.8</td>\n",
              "      <td>1006</td>\n",
              "      <td>81.49</td>\n",
              "      <td>94.37</td>\n",
              "      <td>0.8</td>\n",
              "      <td>272</td>\n",
              "      <td>1.8</td>\n",
              "      <td>0</td>\n",
              "      <td>8.360417</td>\n",
              "      <td>2.639583</td>\n",
              "    </tr>\n",
              "    <tr>\n",
              "      <th>17519</th>\n",
              "      <td>2019</td>\n",
              "      <td>12</td>\n",
              "      <td>31</td>\n",
              "      <td>23</td>\n",
              "      <td>30</td>\n",
              "      <td>0</td>\n",
              "      <td>4.8</td>\n",
              "      <td>7.8</td>\n",
              "      <td>1006</td>\n",
              "      <td>81.49</td>\n",
              "      <td>100.25</td>\n",
              "      <td>0.8</td>\n",
              "      <td>272</td>\n",
              "      <td>1.8</td>\n",
              "      <td>0</td>\n",
              "      <td>8.360417</td>\n",
              "      <td>2.639583</td>\n",
              "    </tr>\n",
              "  </tbody>\n",
              "</table>\n",
              "<p>17520 rows × 17 columns</p>\n",
              "</div>\n",
              "      <button class=\"colab-df-convert\" onclick=\"convertToInteractive('df-c0059b4b-27d4-43e3-a63a-1889738661d2')\"\n",
              "              title=\"Convert this dataframe to an interactive table.\"\n",
              "              style=\"display:none;\">\n",
              "        \n",
              "  <svg xmlns=\"http://www.w3.org/2000/svg\" height=\"24px\"viewBox=\"0 0 24 24\"\n",
              "       width=\"24px\">\n",
              "    <path d=\"M0 0h24v24H0V0z\" fill=\"none\"/>\n",
              "    <path d=\"M18.56 5.44l.94 2.06.94-2.06 2.06-.94-2.06-.94-.94-2.06-.94 2.06-2.06.94zm-11 1L8.5 8.5l.94-2.06 2.06-.94-2.06-.94L8.5 2.5l-.94 2.06-2.06.94zm10 10l.94 2.06.94-2.06 2.06-.94-2.06-.94-.94-2.06-.94 2.06-2.06.94z\"/><path d=\"M17.41 7.96l-1.37-1.37c-.4-.4-.92-.59-1.43-.59-.52 0-1.04.2-1.43.59L10.3 9.45l-7.72 7.72c-.78.78-.78 2.05 0 2.83L4 21.41c.39.39.9.59 1.41.59.51 0 1.02-.2 1.41-.59l7.78-7.78 2.81-2.81c.8-.78.8-2.07 0-2.86zM5.41 20L4 18.59l7.72-7.72 1.47 1.35L5.41 20z\"/>\n",
              "  </svg>\n",
              "      </button>\n",
              "      \n",
              "  <style>\n",
              "    .colab-df-container {\n",
              "      display:flex;\n",
              "      flex-wrap:wrap;\n",
              "      gap: 12px;\n",
              "    }\n",
              "\n",
              "    .colab-df-convert {\n",
              "      background-color: #E8F0FE;\n",
              "      border: none;\n",
              "      border-radius: 50%;\n",
              "      cursor: pointer;\n",
              "      display: none;\n",
              "      fill: #1967D2;\n",
              "      height: 32px;\n",
              "      padding: 0 0 0 0;\n",
              "      width: 32px;\n",
              "    }\n",
              "\n",
              "    .colab-df-convert:hover {\n",
              "      background-color: #E2EBFA;\n",
              "      box-shadow: 0px 1px 2px rgba(60, 64, 67, 0.3), 0px 1px 3px 1px rgba(60, 64, 67, 0.15);\n",
              "      fill: #174EA6;\n",
              "    }\n",
              "\n",
              "    [theme=dark] .colab-df-convert {\n",
              "      background-color: #3B4455;\n",
              "      fill: #D2E3FC;\n",
              "    }\n",
              "\n",
              "    [theme=dark] .colab-df-convert:hover {\n",
              "      background-color: #434B5C;\n",
              "      box-shadow: 0px 1px 3px 1px rgba(0, 0, 0, 0.15);\n",
              "      filter: drop-shadow(0px 1px 2px rgba(0, 0, 0, 0.3));\n",
              "      fill: #FFFFFF;\n",
              "    }\n",
              "  </style>\n",
              "\n",
              "      <script>\n",
              "        const buttonEl =\n",
              "          document.querySelector('#df-c0059b4b-27d4-43e3-a63a-1889738661d2 button.colab-df-convert');\n",
              "        buttonEl.style.display =\n",
              "          google.colab.kernel.accessAllowed ? 'block' : 'none';\n",
              "\n",
              "        async function convertToInteractive(key) {\n",
              "          const element = document.querySelector('#df-c0059b4b-27d4-43e3-a63a-1889738661d2');\n",
              "          const dataTable =\n",
              "            await google.colab.kernel.invokeFunction('convertToInteractive',\n",
              "                                                     [key], {});\n",
              "          if (!dataTable) return;\n",
              "\n",
              "          const docLinkHtml = 'Like what you see? Visit the ' +\n",
              "            '<a target=\"_blank\" href=https://colab.research.google.com/notebooks/data_table.ipynb>data table notebook</a>'\n",
              "            + ' to learn more about interactive tables.';\n",
              "          element.innerHTML = '';\n",
              "          dataTable['output_type'] = 'display_data';\n",
              "          await google.colab.output.renderOutput(dataTable, element);\n",
              "          const docLink = document.createElement('div');\n",
              "          docLink.innerHTML = docLinkHtml;\n",
              "          element.appendChild(docLink);\n",
              "        }\n",
              "      </script>\n",
              "    </div>\n",
              "  </div>\n",
              "  "
            ],
            "text/plain": [
              "       Year  Month  Day  Hour  ...  Wind Speed  Fill Flag        new     new_1\n",
              "0      2019      1    1     0  ...         2.3          0  19.833333  3.045833\n",
              "1      2019      1    1     0  ...         2.5          0  19.833333  3.045833\n",
              "2      2019      1    1     1  ...         2.8          0  19.833333  3.045833\n",
              "3      2019      1    1     1  ...         3.0          0  19.833333  3.045833\n",
              "4      2019      1    1     2  ...         3.1          0  19.833333  3.045833\n",
              "...     ...    ...  ...   ...  ...         ...        ...        ...       ...\n",
              "17515  2019     12   31    21  ...         2.2          0   8.360417  2.639583\n",
              "17516  2019     12   31    22  ...         1.7          0   8.360417  2.639583\n",
              "17517  2019     12   31    22  ...         1.8          0   8.360417  2.639583\n",
              "17518  2019     12   31    23  ...         1.8          0   8.360417  2.639583\n",
              "17519  2019     12   31    23  ...         1.8          0   8.360417  2.639583\n",
              "\n",
              "[17520 rows x 17 columns]"
            ]
          },
          "execution_count": 23,
          "metadata": {},
          "output_type": "execute_result"
        }
      ],
      "source": [
        "test"
      ]
    },
    {
      "cell_type": "code",
      "execution_count": null,
      "metadata": {
        "id": "6H3mcpo8IhEE"
      },
      "outputs": [],
      "source": [
        ""
      ]
    },
    {
      "cell_type": "markdown",
      "metadata": {
        "id": "pKO7k6XPJhzp"
      },
      "source": [
        "### LGBM"
      ]
    },
    {
      "cell_type": "code",
      "execution_count": null,
      "metadata": {
        "colab": {
          "base_uri": "https://localhost:8080/"
        },
        "id": "Nk1QyAi5CVeO",
        "outputId": "759e762d-b7c6-424a-87df-8df2c1ef9759"
      },
      "outputs": [
        {
          "data": {
            "text/plain": [
              "MultiOutputRegressor(estimator=LGBMRegressor(bagging_fraction=0.7,\n",
              "                                             bagging_freq=1,\n",
              "                                             feature_fraction=0.9, lambda_l1=5,\n",
              "                                             lambda_l2=50,\n",
              "                                             learning_rate=0.222434482722137,\n",
              "                                             max_depth=7, min_data_in_leaf=3100,\n",
              "                                             min_gain_to_split=14.97995298416068,\n",
              "                                             num_leaves=1660,\n",
              "                                             objective='regression',\n",
              "                                             random_state=2021))"
            ]
          },
          "execution_count": 39,
          "metadata": {},
          "output_type": "execute_result"
        }
      ],
      "source": [
        "lg = MultiOutputRegressor(LGBMRegressor(**lgbm_params,random_state=2021))\n",
        "lg.fit(x_train,y_train)"
      ]
    },
    {
      "cell_type": "code",
      "execution_count": null,
      "metadata": {
        "colab": {
          "base_uri": "https://localhost:8080/"
        },
        "id": "2svf1Rs9CzI4",
        "outputId": "767a9872-aec3-48e9-c088-0f8685642a4c"
      },
      "outputs": [
        {
          "data": {
            "text/plain": [
              "(0.9734318889830121, 0.9801622085565006)"
            ]
          },
          "execution_count": 40,
          "metadata": {},
          "output_type": "execute_result"
        }
      ],
      "source": [
        "\n",
        "# check r² score, lgbm train & validation\n",
        "\n",
        "lg.score(x_val, y_val), lg.score(x_train, y_train)"
      ]
    },
    {
      "cell_type": "code",
      "execution_count": null,
      "metadata": {
        "id": "9eDAih1KDHbd"
      },
      "outputs": [],
      "source": [
        "lg_predict = lg.predict(x_val)"
      ]
    },
    {
      "cell_type": "code",
      "execution_count": null,
      "metadata": {
        "colab": {
          "base_uri": "https://localhost:8080/"
        },
        "id": "qZR250mTDLPH",
        "outputId": "36e8f4a6-625a-4a3d-ce88-dbf0f9a645be"
      },
      "outputs": [
        {
          "data": {
            "text/plain": [
              "607.834257467906"
            ]
          },
          "execution_count": 42,
          "metadata": {},
          "output_type": "execute_result"
        }
      ],
      "source": [
        "\n",
        "# check mse \n",
        "mean_squared_error(y_val, lg_predict)"
      ]
    },
    {
      "cell_type": "code",
      "execution_count": null,
      "metadata": {
        "id": "zJeptiPCDLYM"
      },
      "outputs": [],
      "source": [
        "\n",
        "# predict data unseen\n",
        "\n",
        "y_true_lgbm = lg.predict(test)"
      ]
    },
    {
      "cell_type": "code",
      "execution_count": null,
      "metadata": {
        "colab": {
          "base_uri": "https://localhost:8080/"
        },
        "id": "2ZYRORBeH-GW",
        "outputId": "1afe1dc7-a9fa-4229-a7fc-9d78072c82ce"
      },
      "outputs": [
        {
          "data": {
            "text/plain": [
              "array([[-4.61934542e-01, -2.25995576e+00, -2.48222708e-01],\n",
              "       [-6.62591838e-01, -1.50834371e+00, -4.72585460e-01],\n",
              "       [-1.62762046e+00, -1.65686136e+00, -1.41128569e-01],\n",
              "       ...,\n",
              "       [ 9.08900838e+00,  1.75188133e+02,  1.50088880e+01],\n",
              "       [-1.05425476e-01,  1.21544183e+01,  3.24092864e+00],\n",
              "       [-1.18005552e+00, -1.80011168e+00,  8.99289200e-01]])"
            ]
          },
          "execution_count": 55,
          "metadata": {},
          "output_type": "execute_result"
        }
      ],
      "source": [
        "y_true_lgbm"
      ]
    },
    {
      "cell_type": "code",
      "execution_count": null,
      "metadata": {
        "id": "9FqpRhwsIj6O"
      },
      "outputs": [],
      "source": [
        ""
      ]
    },
    {
      "cell_type": "markdown",
      "metadata": {
        "id": "DuKFxOMWJbBe"
      },
      "source": [
        "### Hgbt"
      ]
    },
    {
      "cell_type": "code",
      "execution_count": null,
      "metadata": {
        "colab": {
          "base_uri": "https://localhost:8080/"
        },
        "id": "Had4YcOHDsg3",
        "outputId": "5000e864-fd25-47b3-b66d-48f0e6598615"
      },
      "outputs": [
        {
          "data": {
            "text/plain": [
              "MultiOutputRegressor(estimator=HistGradientBoostingRegressor(l2_regularization=0.001,\n",
              "                                                             learning_rate=0.15686655319820766,\n",
              "                                                             max_depth=3,\n",
              "                                                             max_iter=600,\n",
              "                                                             max_leaf_nodes=23,\n",
              "                                                             random_state=2020))"
            ]
          },
          "execution_count": 34,
          "metadata": {},
          "output_type": "execute_result"
        }
      ],
      "source": [
        "hgbt = MultiOutputRegressor(HistGradientBoostingRegressor(**hgbt_params,random_state=2020))\n",
        "hgbt.fit(x_train,y_train.values)"
      ]
    },
    {
      "cell_type": "code",
      "execution_count": null,
      "metadata": {
        "colab": {
          "base_uri": "https://localhost:8080/"
        },
        "id": "-NW17TECD6s1",
        "outputId": "002e8ca8-2be7-4d10-adb0-adcbd92e06b7"
      },
      "outputs": [
        {
          "data": {
            "text/plain": [
              "(0.9738556921037329, 0.984689040099518)"
            ]
          },
          "execution_count": 35,
          "metadata": {},
          "output_type": "execute_result"
        }
      ],
      "source": [
        "# check r² score, histgradientboosting train & validation\n",
        "\n",
        "hgbt.score(x_val, y_val), hgbt.score(x_train, y_train)"
      ]
    },
    {
      "cell_type": "code",
      "execution_count": null,
      "metadata": {
        "id": "tig66-9PD_na"
      },
      "outputs": [],
      "source": [
        "hgbt_predict = hgbt.predict(x_val)"
      ]
    },
    {
      "cell_type": "code",
      "execution_count": null,
      "metadata": {
        "colab": {
          "base_uri": "https://localhost:8080/"
        },
        "id": "XBWQjab-EEXb",
        "outputId": "27d78f79-ee00-45c9-977a-574d26c1819d"
      },
      "outputs": [
        {
          "data": {
            "text/plain": [
              "574.7064728443004"
            ]
          },
          "execution_count": 38,
          "metadata": {},
          "output_type": "execute_result"
        }
      ],
      "source": [
        "# check mse\n",
        "\n",
        "mean_squared_error(y_val, hgbt_predict)"
      ]
    },
    {
      "cell_type": "code",
      "execution_count": null,
      "metadata": {
        "id": "3rvleh4mHx7c"
      },
      "outputs": [],
      "source": [
        "\n",
        "# predict data unseen\n",
        "\n",
        "y_true_hgbt = hgbt.predict(test)"
      ]
    },
    {
      "cell_type": "code",
      "execution_count": null,
      "metadata": {
        "colab": {
          "base_uri": "https://localhost:8080/"
        },
        "id": "cxZimOLBIMbr",
        "outputId": "981a72b6-d831-4696-827c-5dba6b255561"
      },
      "outputs": [
        {
          "data": {
            "text/plain": [
              "array([[ -9.4847838 ,  14.82220051,   1.39322828],\n",
              "       [ -9.35242684,  15.67931716,   1.48905445],\n",
              "       [ -4.19062989,  11.53680074,   1.55837897],\n",
              "       ...,\n",
              "       [ 12.22212615, 138.97065263,  18.51847282],\n",
              "       [  0.83627125,  -7.60758944,  -1.44061469],\n",
              "       [  0.74208332, -11.63683155,  -2.05527481]])"
            ]
          },
          "execution_count": 57,
          "metadata": {},
          "output_type": "execute_result"
        }
      ],
      "source": [
        "y_true_hgbt"
      ]
    },
    {
      "cell_type": "code",
      "execution_count": null,
      "metadata": {
        "id": "O1KWGrFYJ0NZ"
      },
      "outputs": [],
      "source": [
        ""
      ]
    },
    {
      "cell_type": "markdown",
      "metadata": {
        "id": "wM0Coi43JUVN"
      },
      "source": [
        "### CatBoost"
      ]
    },
    {
      "cell_type": "code",
      "execution_count": null,
      "metadata": {
        "colab": {
          "base_uri": "https://localhost:8080/"
        },
        "id": "jsyFwS1oEb3x",
        "outputId": "5bd6e81a-dad7-49d8-9fc1-5e9aa46cd2b3"
      },
      "outputs": [
        {
          "name": "stderr",
          "output_type": "stream",
          "text": [
            "Custom logger is already specified. Specify more than one logger at same time is not thread safe."
          ]
        },
        {
          "data": {
            "text/plain": [
              "<catboost.core.CatBoostRegressor at 0x7fb2e802c590>"
            ]
          },
          "execution_count": 46,
          "metadata": {},
          "output_type": "execute_result"
        }
      ],
      "source": [
        "cb = CatBoostRegressor(**cb_params,loss_function = \"MultiRMSE\", random_state=2022)\n",
        "cb.fit(x_train,y_train,eval_set=[(x_val,y_val)],verbose=False,early_stopping_rounds=100)"
      ]
    },
    {
      "cell_type": "code",
      "execution_count": null,
      "metadata": {
        "colab": {
          "base_uri": "https://localhost:8080/"
        },
        "id": "c5QPb1wOFJQl",
        "outputId": "de51fa48-340e-4ea7-803b-33a47d2092be"
      },
      "outputs": [
        {
          "data": {
            "text/plain": [
              "(0.9929748684344931, 0.9943417154505273)"
            ]
          },
          "execution_count": 47,
          "metadata": {},
          "output_type": "execute_result"
        }
      ],
      "source": [
        "\n",
        "# check r² score, catboost train & validation\n",
        "\n",
        "cb.score(x_val, y_val), cb.score(x_train, y_train)"
      ]
    },
    {
      "cell_type": "code",
      "execution_count": null,
      "metadata": {
        "id": "qiB_F7ifBf-h"
      },
      "outputs": [],
      "source": [
        "cb_predict = cb.predict(x_val)"
      ]
    },
    {
      "cell_type": "code",
      "execution_count": null,
      "metadata": {
        "colab": {
          "base_uri": "https://localhost:8080/"
        },
        "id": "HfehuyNeFwws",
        "outputId": "58814ac7-1269-4dd9-96d5-d7af0ce847ed"
      },
      "outputs": [
        {
          "data": {
            "text/plain": [
              "585.7838375256262"
            ]
          },
          "execution_count": 49,
          "metadata": {},
          "output_type": "execute_result"
        }
      ],
      "source": [
        "\n",
        "# check mse\n",
        "\n",
        "mean_squared_error(y_val, cb_predict)"
      ]
    },
    {
      "cell_type": "code",
      "execution_count": null,
      "metadata": {
        "id": "c7AZX_29Hsk_"
      },
      "outputs": [],
      "source": [
        "\n",
        "# predict data unseen\n",
        "\n",
        "y_true_cb = cb.predict(test)"
      ]
    },
    {
      "cell_type": "code",
      "execution_count": null,
      "metadata": {
        "colab": {
          "base_uri": "https://localhost:8080/"
        },
        "id": "1Yl5SSRxISm9",
        "outputId": "494613b7-de8e-47dd-b48c-c4a193630b42"
      },
      "outputs": [
        {
          "data": {
            "text/plain": [
              "array([[-9.43473045e-02, -6.45652139e-01,  2.59905550e-02],\n",
              "       [-7.68351279e-01,  1.37517465e+00,  1.28709183e+00],\n",
              "       [-4.97933641e-01,  3.13842611e-01,  1.00848987e+00],\n",
              "       ...,\n",
              "       [ 7.25201919e+00,  1.59752887e+02,  1.61899835e+01],\n",
              "       [ 1.89829480e+00, -6.15635537e-02,  2.79692924e+00],\n",
              "       [ 4.55229079e-01, -4.24999426e+00,  8.31004014e-01]])"
            ]
          },
          "execution_count": 58,
          "metadata": {},
          "output_type": "execute_result"
        }
      ],
      "source": [
        "y_true_cb"
      ]
    },
    {
      "cell_type": "code",
      "execution_count": null,
      "metadata": {
        "id": "8baJrAQTJ6dL"
      },
      "outputs": [],
      "source": [
        ""
      ]
    },
    {
      "cell_type": "markdown",
      "metadata": {
        "id": "EsW3snI0J60w"
      },
      "source": [
        "## Submission\n",
        "\n",
        "ambil rata rata dari blending, untuk mencegah variance"
      ]
    },
    {
      "cell_type": "code",
      "execution_count": null,
      "metadata": {
        "id": "d3qG_FlIJ-0W"
      },
      "outputs": [],
      "source": [
        "blend = (y_true_hgbt + y_true_cb + y_true_lgbm)/3"
      ]
    },
    {
      "cell_type": "code",
      "execution_count": null,
      "metadata": {
        "colab": {
          "base_uri": "https://localhost:8080/"
        },
        "id": "OG23KDf4K-yv",
        "outputId": "bed56693-14b8-4337-fe88-130e349fc0f5"
      },
      "outputs": [
        {
          "output_type": "execute_result",
          "data": {
            "text/plain": [
              "(17520, 3)"
            ]
          },
          "metadata": {},
          "execution_count": 176
        }
      ],
      "source": [
        "blend.shape"
      ]
    },
    {
      "cell_type": "code",
      "execution_count": null,
      "metadata": {
        "colab": {
          "base_uri": "https://localhost:8080/"
        },
        "id": "0dtiiM7TLAcp",
        "outputId": "59cb79e8-1648-49fb-a0c5-f2a0769273a4"
      },
      "outputs": [
        {
          "output_type": "execute_result",
          "data": {
            "text/plain": [
              "array([[-3.34702188e+00,  3.97219754e+00,  3.90332042e-01],\n",
              "       [-3.59445665e+00,  5.18204937e+00,  7.67853606e-01],\n",
              "       [-2.10539466e+00,  3.39792733e+00,  8.08580090e-01],\n",
              "       ...,\n",
              "       [ 9.52105124e+00,  1.57970558e+02,  1.65724481e+01],\n",
              "       [ 8.76380191e-01,  1.49508843e+00,  1.53241440e+00],\n",
              "       [ 5.75229440e-03, -5.89564583e+00, -1.08327197e-01]])"
            ]
          },
          "metadata": {},
          "execution_count": 177
        }
      ],
      "source": [
        "blend"
      ]
    },
    {
      "cell_type": "code",
      "source": [
        "# ambil file submission"
      ],
      "metadata": {
        "id": "tbXd7d-DaRha"
      },
      "execution_count": null,
      "outputs": []
    },
    {
      "cell_type": "code",
      "source": [
        "sub = pd.read_csv(\"/content/sample_submission.csv\")"
      ],
      "metadata": {
        "id": "4PUSNGK9L0Jb"
      },
      "execution_count": null,
      "outputs": []
    },
    {
      "cell_type": "code",
      "source": [
        "sub"
      ],
      "metadata": {
        "colab": {
          "base_uri": "https://localhost:8080/",
          "height": 500
        },
        "id": "FHjQzY0hL7Pp",
        "outputId": "9d8b175a-2124-4991-b1d6-4950cfcca427"
      },
      "execution_count": null,
      "outputs": [
        {
          "output_type": "execute_result",
          "data": {
            "text/html": [
              "\n",
              "  <div id=\"df-868ec471-c1b2-4a6b-bc4f-4076c62b2898\">\n",
              "    <div class=\"colab-df-container\">\n",
              "      <div>\n",
              "<style scoped>\n",
              "    .dataframe tbody tr th:only-of-type {\n",
              "        vertical-align: middle;\n",
              "    }\n",
              "\n",
              "    .dataframe tbody tr th {\n",
              "        vertical-align: top;\n",
              "    }\n",
              "\n",
              "    .dataframe thead th {\n",
              "        text-align: right;\n",
              "    }\n",
              "</style>\n",
              "<table border=\"1\" class=\"dataframe\">\n",
              "  <thead>\n",
              "    <tr style=\"text-align: right;\">\n",
              "      <th></th>\n",
              "      <th>Clearsky DHI</th>\n",
              "      <th>Clearsky DNI</th>\n",
              "      <th>Clearsky GHI</th>\n",
              "    </tr>\n",
              "  </thead>\n",
              "  <tbody>\n",
              "    <tr>\n",
              "      <th>0</th>\n",
              "      <td>0</td>\n",
              "      <td>0</td>\n",
              "      <td>0</td>\n",
              "    </tr>\n",
              "    <tr>\n",
              "      <th>1</th>\n",
              "      <td>0</td>\n",
              "      <td>0</td>\n",
              "      <td>0</td>\n",
              "    </tr>\n",
              "    <tr>\n",
              "      <th>2</th>\n",
              "      <td>0</td>\n",
              "      <td>0</td>\n",
              "      <td>0</td>\n",
              "    </tr>\n",
              "    <tr>\n",
              "      <th>3</th>\n",
              "      <td>0</td>\n",
              "      <td>0</td>\n",
              "      <td>0</td>\n",
              "    </tr>\n",
              "    <tr>\n",
              "      <th>4</th>\n",
              "      <td>0</td>\n",
              "      <td>0</td>\n",
              "      <td>0</td>\n",
              "    </tr>\n",
              "    <tr>\n",
              "      <th>...</th>\n",
              "      <td>...</td>\n",
              "      <td>...</td>\n",
              "      <td>...</td>\n",
              "    </tr>\n",
              "    <tr>\n",
              "      <th>17515</th>\n",
              "      <td>0</td>\n",
              "      <td>0</td>\n",
              "      <td>0</td>\n",
              "    </tr>\n",
              "    <tr>\n",
              "      <th>17516</th>\n",
              "      <td>0</td>\n",
              "      <td>0</td>\n",
              "      <td>0</td>\n",
              "    </tr>\n",
              "    <tr>\n",
              "      <th>17517</th>\n",
              "      <td>0</td>\n",
              "      <td>0</td>\n",
              "      <td>0</td>\n",
              "    </tr>\n",
              "    <tr>\n",
              "      <th>17518</th>\n",
              "      <td>0</td>\n",
              "      <td>0</td>\n",
              "      <td>0</td>\n",
              "    </tr>\n",
              "    <tr>\n",
              "      <th>17519</th>\n",
              "      <td>0</td>\n",
              "      <td>0</td>\n",
              "      <td>0</td>\n",
              "    </tr>\n",
              "  </tbody>\n",
              "</table>\n",
              "<p>17520 rows × 3 columns</p>\n",
              "</div>\n",
              "      <button class=\"colab-df-convert\" onclick=\"convertToInteractive('df-868ec471-c1b2-4a6b-bc4f-4076c62b2898')\"\n",
              "              title=\"Convert this dataframe to an interactive table.\"\n",
              "              style=\"display:none;\">\n",
              "        \n",
              "  <svg xmlns=\"http://www.w3.org/2000/svg\" height=\"24px\"viewBox=\"0 0 24 24\"\n",
              "       width=\"24px\">\n",
              "    <path d=\"M0 0h24v24H0V0z\" fill=\"none\"/>\n",
              "    <path d=\"M18.56 5.44l.94 2.06.94-2.06 2.06-.94-2.06-.94-.94-2.06-.94 2.06-2.06.94zm-11 1L8.5 8.5l.94-2.06 2.06-.94-2.06-.94L8.5 2.5l-.94 2.06-2.06.94zm10 10l.94 2.06.94-2.06 2.06-.94-2.06-.94-.94-2.06-.94 2.06-2.06.94z\"/><path d=\"M17.41 7.96l-1.37-1.37c-.4-.4-.92-.59-1.43-.59-.52 0-1.04.2-1.43.59L10.3 9.45l-7.72 7.72c-.78.78-.78 2.05 0 2.83L4 21.41c.39.39.9.59 1.41.59.51 0 1.02-.2 1.41-.59l7.78-7.78 2.81-2.81c.8-.78.8-2.07 0-2.86zM5.41 20L4 18.59l7.72-7.72 1.47 1.35L5.41 20z\"/>\n",
              "  </svg>\n",
              "      </button>\n",
              "      \n",
              "  <style>\n",
              "    .colab-df-container {\n",
              "      display:flex;\n",
              "      flex-wrap:wrap;\n",
              "      gap: 12px;\n",
              "    }\n",
              "\n",
              "    .colab-df-convert {\n",
              "      background-color: #E8F0FE;\n",
              "      border: none;\n",
              "      border-radius: 50%;\n",
              "      cursor: pointer;\n",
              "      display: none;\n",
              "      fill: #1967D2;\n",
              "      height: 32px;\n",
              "      padding: 0 0 0 0;\n",
              "      width: 32px;\n",
              "    }\n",
              "\n",
              "    .colab-df-convert:hover {\n",
              "      background-color: #E2EBFA;\n",
              "      box-shadow: 0px 1px 2px rgba(60, 64, 67, 0.3), 0px 1px 3px 1px rgba(60, 64, 67, 0.15);\n",
              "      fill: #174EA6;\n",
              "    }\n",
              "\n",
              "    [theme=dark] .colab-df-convert {\n",
              "      background-color: #3B4455;\n",
              "      fill: #D2E3FC;\n",
              "    }\n",
              "\n",
              "    [theme=dark] .colab-df-convert:hover {\n",
              "      background-color: #434B5C;\n",
              "      box-shadow: 0px 1px 3px 1px rgba(0, 0, 0, 0.15);\n",
              "      filter: drop-shadow(0px 1px 2px rgba(0, 0, 0, 0.3));\n",
              "      fill: #FFFFFF;\n",
              "    }\n",
              "  </style>\n",
              "\n",
              "      <script>\n",
              "        const buttonEl =\n",
              "          document.querySelector('#df-868ec471-c1b2-4a6b-bc4f-4076c62b2898 button.colab-df-convert');\n",
              "        buttonEl.style.display =\n",
              "          google.colab.kernel.accessAllowed ? 'block' : 'none';\n",
              "\n",
              "        async function convertToInteractive(key) {\n",
              "          const element = document.querySelector('#df-868ec471-c1b2-4a6b-bc4f-4076c62b2898');\n",
              "          const dataTable =\n",
              "            await google.colab.kernel.invokeFunction('convertToInteractive',\n",
              "                                                     [key], {});\n",
              "          if (!dataTable) return;\n",
              "\n",
              "          const docLinkHtml = 'Like what you see? Visit the ' +\n",
              "            '<a target=\"_blank\" href=https://colab.research.google.com/notebooks/data_table.ipynb>data table notebook</a>'\n",
              "            + ' to learn more about interactive tables.';\n",
              "          element.innerHTML = '';\n",
              "          dataTable['output_type'] = 'display_data';\n",
              "          await google.colab.output.renderOutput(dataTable, element);\n",
              "          const docLink = document.createElement('div');\n",
              "          docLink.innerHTML = docLinkHtml;\n",
              "          element.appendChild(docLink);\n",
              "        }\n",
              "      </script>\n",
              "    </div>\n",
              "  </div>\n",
              "  "
            ],
            "text/plain": [
              "       Clearsky DHI  Clearsky DNI  Clearsky GHI\n",
              "0                 0             0             0\n",
              "1                 0             0             0\n",
              "2                 0             0             0\n",
              "3                 0             0             0\n",
              "4                 0             0             0\n",
              "...             ...           ...           ...\n",
              "17515             0             0             0\n",
              "17516             0             0             0\n",
              "17517             0             0             0\n",
              "17518             0             0             0\n",
              "17519             0             0             0\n",
              "\n",
              "[17520 rows x 3 columns]"
            ]
          },
          "metadata": {},
          "execution_count": 91
        }
      ]
    },
    {
      "cell_type": "code",
      "source": [
        "sub.iloc[:,:] = blend"
      ],
      "metadata": {
        "id": "3DSz2ViBL8Ai"
      },
      "execution_count": null,
      "outputs": []
    },
    {
      "cell_type": "code",
      "source": [
        "sub"
      ],
      "metadata": {
        "colab": {
          "base_uri": "https://localhost:8080/",
          "height": 500
        },
        "id": "hPcDdb2uMA-m",
        "outputId": "b07de9bf-a984-4178-fbed-307502a0dda0"
      },
      "execution_count": null,
      "outputs": [
        {
          "output_type": "execute_result",
          "data": {
            "text/html": [
              "\n",
              "  <div id=\"df-50c0a732-9e45-4b00-aead-909a930554ba\">\n",
              "    <div class=\"colab-df-container\">\n",
              "      <div>\n",
              "<style scoped>\n",
              "    .dataframe tbody tr th:only-of-type {\n",
              "        vertical-align: middle;\n",
              "    }\n",
              "\n",
              "    .dataframe tbody tr th {\n",
              "        vertical-align: top;\n",
              "    }\n",
              "\n",
              "    .dataframe thead th {\n",
              "        text-align: right;\n",
              "    }\n",
              "</style>\n",
              "<table border=\"1\" class=\"dataframe\">\n",
              "  <thead>\n",
              "    <tr style=\"text-align: right;\">\n",
              "      <th></th>\n",
              "      <th>Clearsky DHI</th>\n",
              "      <th>Clearsky DNI</th>\n",
              "      <th>Clearsky GHI</th>\n",
              "    </tr>\n",
              "  </thead>\n",
              "  <tbody>\n",
              "    <tr>\n",
              "      <th>0</th>\n",
              "      <td>-3.347022</td>\n",
              "      <td>3.972198</td>\n",
              "      <td>0.390332</td>\n",
              "    </tr>\n",
              "    <tr>\n",
              "      <th>1</th>\n",
              "      <td>-3.594457</td>\n",
              "      <td>5.182049</td>\n",
              "      <td>0.767854</td>\n",
              "    </tr>\n",
              "    <tr>\n",
              "      <th>2</th>\n",
              "      <td>-2.105395</td>\n",
              "      <td>3.397927</td>\n",
              "      <td>0.808580</td>\n",
              "    </tr>\n",
              "    <tr>\n",
              "      <th>3</th>\n",
              "      <td>-1.945422</td>\n",
              "      <td>3.737695</td>\n",
              "      <td>0.792609</td>\n",
              "    </tr>\n",
              "    <tr>\n",
              "      <th>4</th>\n",
              "      <td>-1.440679</td>\n",
              "      <td>0.246627</td>\n",
              "      <td>-0.033793</td>\n",
              "    </tr>\n",
              "    <tr>\n",
              "      <th>...</th>\n",
              "      <td>...</td>\n",
              "      <td>...</td>\n",
              "      <td>...</td>\n",
              "    </tr>\n",
              "    <tr>\n",
              "      <th>17515</th>\n",
              "      <td>51.043537</td>\n",
              "      <td>645.700165</td>\n",
              "      <td>184.809257</td>\n",
              "    </tr>\n",
              "    <tr>\n",
              "      <th>17516</th>\n",
              "      <td>36.325049</td>\n",
              "      <td>455.949963</td>\n",
              "      <td>93.484585</td>\n",
              "    </tr>\n",
              "    <tr>\n",
              "      <th>17517</th>\n",
              "      <td>9.521051</td>\n",
              "      <td>157.970558</td>\n",
              "      <td>16.572448</td>\n",
              "    </tr>\n",
              "    <tr>\n",
              "      <th>17518</th>\n",
              "      <td>0.876380</td>\n",
              "      <td>1.495088</td>\n",
              "      <td>1.532414</td>\n",
              "    </tr>\n",
              "    <tr>\n",
              "      <th>17519</th>\n",
              "      <td>0.005752</td>\n",
              "      <td>-5.895646</td>\n",
              "      <td>-0.108327</td>\n",
              "    </tr>\n",
              "  </tbody>\n",
              "</table>\n",
              "<p>17520 rows × 3 columns</p>\n",
              "</div>\n",
              "      <button class=\"colab-df-convert\" onclick=\"convertToInteractive('df-50c0a732-9e45-4b00-aead-909a930554ba')\"\n",
              "              title=\"Convert this dataframe to an interactive table.\"\n",
              "              style=\"display:none;\">\n",
              "        \n",
              "  <svg xmlns=\"http://www.w3.org/2000/svg\" height=\"24px\"viewBox=\"0 0 24 24\"\n",
              "       width=\"24px\">\n",
              "    <path d=\"M0 0h24v24H0V0z\" fill=\"none\"/>\n",
              "    <path d=\"M18.56 5.44l.94 2.06.94-2.06 2.06-.94-2.06-.94-.94-2.06-.94 2.06-2.06.94zm-11 1L8.5 8.5l.94-2.06 2.06-.94-2.06-.94L8.5 2.5l-.94 2.06-2.06.94zm10 10l.94 2.06.94-2.06 2.06-.94-2.06-.94-.94-2.06-.94 2.06-2.06.94z\"/><path d=\"M17.41 7.96l-1.37-1.37c-.4-.4-.92-.59-1.43-.59-.52 0-1.04.2-1.43.59L10.3 9.45l-7.72 7.72c-.78.78-.78 2.05 0 2.83L4 21.41c.39.39.9.59 1.41.59.51 0 1.02-.2 1.41-.59l7.78-7.78 2.81-2.81c.8-.78.8-2.07 0-2.86zM5.41 20L4 18.59l7.72-7.72 1.47 1.35L5.41 20z\"/>\n",
              "  </svg>\n",
              "      </button>\n",
              "      \n",
              "  <style>\n",
              "    .colab-df-container {\n",
              "      display:flex;\n",
              "      flex-wrap:wrap;\n",
              "      gap: 12px;\n",
              "    }\n",
              "\n",
              "    .colab-df-convert {\n",
              "      background-color: #E8F0FE;\n",
              "      border: none;\n",
              "      border-radius: 50%;\n",
              "      cursor: pointer;\n",
              "      display: none;\n",
              "      fill: #1967D2;\n",
              "      height: 32px;\n",
              "      padding: 0 0 0 0;\n",
              "      width: 32px;\n",
              "    }\n",
              "\n",
              "    .colab-df-convert:hover {\n",
              "      background-color: #E2EBFA;\n",
              "      box-shadow: 0px 1px 2px rgba(60, 64, 67, 0.3), 0px 1px 3px 1px rgba(60, 64, 67, 0.15);\n",
              "      fill: #174EA6;\n",
              "    }\n",
              "\n",
              "    [theme=dark] .colab-df-convert {\n",
              "      background-color: #3B4455;\n",
              "      fill: #D2E3FC;\n",
              "    }\n",
              "\n",
              "    [theme=dark] .colab-df-convert:hover {\n",
              "      background-color: #434B5C;\n",
              "      box-shadow: 0px 1px 3px 1px rgba(0, 0, 0, 0.15);\n",
              "      filter: drop-shadow(0px 1px 2px rgba(0, 0, 0, 0.3));\n",
              "      fill: #FFFFFF;\n",
              "    }\n",
              "  </style>\n",
              "\n",
              "      <script>\n",
              "        const buttonEl =\n",
              "          document.querySelector('#df-50c0a732-9e45-4b00-aead-909a930554ba button.colab-df-convert');\n",
              "        buttonEl.style.display =\n",
              "          google.colab.kernel.accessAllowed ? 'block' : 'none';\n",
              "\n",
              "        async function convertToInteractive(key) {\n",
              "          const element = document.querySelector('#df-50c0a732-9e45-4b00-aead-909a930554ba');\n",
              "          const dataTable =\n",
              "            await google.colab.kernel.invokeFunction('convertToInteractive',\n",
              "                                                     [key], {});\n",
              "          if (!dataTable) return;\n",
              "\n",
              "          const docLinkHtml = 'Like what you see? Visit the ' +\n",
              "            '<a target=\"_blank\" href=https://colab.research.google.com/notebooks/data_table.ipynb>data table notebook</a>'\n",
              "            + ' to learn more about interactive tables.';\n",
              "          element.innerHTML = '';\n",
              "          dataTable['output_type'] = 'display_data';\n",
              "          await google.colab.output.renderOutput(dataTable, element);\n",
              "          const docLink = document.createElement('div');\n",
              "          docLink.innerHTML = docLinkHtml;\n",
              "          element.appendChild(docLink);\n",
              "        }\n",
              "      </script>\n",
              "    </div>\n",
              "  </div>\n",
              "  "
            ],
            "text/plain": [
              "       Clearsky DHI  Clearsky DNI  Clearsky GHI\n",
              "0         -3.347022      3.972198      0.390332\n",
              "1         -3.594457      5.182049      0.767854\n",
              "2         -2.105395      3.397927      0.808580\n",
              "3         -1.945422      3.737695      0.792609\n",
              "4         -1.440679      0.246627     -0.033793\n",
              "...             ...           ...           ...\n",
              "17515     51.043537    645.700165    184.809257\n",
              "17516     36.325049    455.949963     93.484585\n",
              "17517      9.521051    157.970558     16.572448\n",
              "17518      0.876380      1.495088      1.532414\n",
              "17519      0.005752     -5.895646     -0.108327\n",
              "\n",
              "[17520 rows x 3 columns]"
            ]
          },
          "metadata": {},
          "execution_count": 179
        }
      ]
    },
    {
      "cell_type": "code",
      "source": [
        "sub.to_csv(\"submission.csv\", index=False)"
      ],
      "metadata": {
        "id": "CfHyI_Q_MIEc"
      },
      "execution_count": null,
      "outputs": []
    }
  ],
  "metadata": {
    "accelerator": "GPU",
    "colab": {
      "collapsed_sections": [
        "ZxQMndmadEYg",
        "jHVFiTTidATp",
        "z7-wLRZfn-gG",
        "TVbNaSB8pZSo",
        "93nH5grHxi4_",
        "WHd763-KyFVs",
        "-0wqYw-ZBGVA",
        "wM0Coi43JUVN",
        "EsW3snI0J60w"
      ],
      "name": "predict_energy(modelling).ipynb",
      "provenance": [],
      "mount_file_id": "13_hHzdlLyyHHIrNl25IBynU6UHHcgg1A",
      "authorship_tag": "ABX9TyOP+XqqTd8jy0FRKr3ts4w1",
      "include_colab_link": true
    },
    "kernelspec": {
      "display_name": "Python 3",
      "name": "python3"
    },
    "language_info": {
      "name": "python"
    },
    "widgets": {
      "application/vnd.jupyter.widget-state+json": {
        "0e3f865bb95f4a38bdcbedf71b751dc7": {
          "model_module": "@jupyter-widgets/base",
          "model_module_version": "1.2.0",
          "model_name": "LayoutModel",
          "state": {
            "_model_module": "@jupyter-widgets/base",
            "_model_module_version": "1.2.0",
            "_model_name": "LayoutModel",
            "_view_count": null,
            "_view_module": "@jupyter-widgets/base",
            "_view_module_version": "1.2.0",
            "_view_name": "LayoutView",
            "align_content": null,
            "align_items": null,
            "align_self": null,
            "border": null,
            "bottom": null,
            "display": null,
            "flex": null,
            "flex_flow": null,
            "grid_area": null,
            "grid_auto_columns": null,
            "grid_auto_flow": null,
            "grid_auto_rows": null,
            "grid_column": null,
            "grid_gap": null,
            "grid_row": null,
            "grid_template_areas": null,
            "grid_template_columns": null,
            "grid_template_rows": null,
            "height": null,
            "justify_content": null,
            "justify_items": null,
            "left": null,
            "margin": null,
            "max_height": null,
            "max_width": null,
            "min_height": null,
            "min_width": null,
            "object_fit": null,
            "object_position": null,
            "order": null,
            "overflow": null,
            "overflow_x": null,
            "overflow_y": null,
            "padding": null,
            "right": null,
            "top": null,
            "visibility": null,
            "width": null
          }
        },
        "21669eced3af413abb7242d4971ea01d": {
          "model_module": "@jupyter-widgets/controls",
          "model_module_version": "1.5.0",
          "model_name": "HTMLModel",
          "state": {
            "_dom_classes": [],
            "_model_module": "@jupyter-widgets/controls",
            "_model_module_version": "1.5.0",
            "_model_name": "HTMLModel",
            "_view_count": null,
            "_view_module": "@jupyter-widgets/controls",
            "_view_module_version": "1.5.0",
            "_view_name": "HTMLView",
            "description": "",
            "description_tooltip": null,
            "layout": "IPY_MODEL_ce0c08b3fc2c49ed80713265db253513",
            "placeholder": "​",
            "style": "IPY_MODEL_22715d49311b419da13cd395c84220cf",
            "value": "100%"
          }
        },
        "22715d49311b419da13cd395c84220cf": {
          "model_module": "@jupyter-widgets/controls",
          "model_module_version": "1.5.0",
          "model_name": "DescriptionStyleModel",
          "state": {
            "_model_module": "@jupyter-widgets/controls",
            "_model_module_version": "1.5.0",
            "_model_name": "DescriptionStyleModel",
            "_view_count": null,
            "_view_module": "@jupyter-widgets/base",
            "_view_module_version": "1.2.0",
            "_view_name": "StyleView",
            "description_width": ""
          }
        },
        "30168f50a5be47b6a1fed6fa996d4460": {
          "model_module": "@jupyter-widgets/controls",
          "model_module_version": "1.5.0",
          "model_name": "HBoxModel",
          "state": {
            "_dom_classes": [],
            "_model_module": "@jupyter-widgets/controls",
            "_model_module_version": "1.5.0",
            "_model_name": "HBoxModel",
            "_view_count": null,
            "_view_module": "@jupyter-widgets/controls",
            "_view_module_version": "1.5.0",
            "_view_name": "HBoxView",
            "box_style": "",
            "children": [
              "IPY_MODEL_21669eced3af413abb7242d4971ea01d",
              "IPY_MODEL_3aeb8f7e5d43458089459dedf9e21d0b",
              "IPY_MODEL_fd580bc1eb6f424a9cb6e318ac59e5ea"
            ],
            "layout": "IPY_MODEL_0e3f865bb95f4a38bdcbedf71b751dc7"
          }
        },
        "3aeb8f7e5d43458089459dedf9e21d0b": {
          "model_module": "@jupyter-widgets/controls",
          "model_module_version": "1.5.0",
          "model_name": "FloatProgressModel",
          "state": {
            "_dom_classes": [],
            "_model_module": "@jupyter-widgets/controls",
            "_model_module_version": "1.5.0",
            "_model_name": "FloatProgressModel",
            "_view_count": null,
            "_view_module": "@jupyter-widgets/controls",
            "_view_module_version": "1.5.0",
            "_view_name": "ProgressView",
            "bar_style": "success",
            "description": "",
            "description_tooltip": null,
            "layout": "IPY_MODEL_c32322778a45440e800d39c2a7e16b90",
            "max": 50,
            "min": 0,
            "orientation": "horizontal",
            "style": "IPY_MODEL_faa5d9eca6bb40f6b9d34cb242e72295",
            "value": 50
          }
        },
        "8bff6ebd659c411f86ec4148a1ac2f26": {
          "model_module": "@jupyter-widgets/base",
          "model_module_version": "1.2.0",
          "model_name": "LayoutModel",
          "state": {
            "_model_module": "@jupyter-widgets/base",
            "_model_module_version": "1.2.0",
            "_model_name": "LayoutModel",
            "_view_count": null,
            "_view_module": "@jupyter-widgets/base",
            "_view_module_version": "1.2.0",
            "_view_name": "LayoutView",
            "align_content": null,
            "align_items": null,
            "align_self": null,
            "border": null,
            "bottom": null,
            "display": null,
            "flex": null,
            "flex_flow": null,
            "grid_area": null,
            "grid_auto_columns": null,
            "grid_auto_flow": null,
            "grid_auto_rows": null,
            "grid_column": null,
            "grid_gap": null,
            "grid_row": null,
            "grid_template_areas": null,
            "grid_template_columns": null,
            "grid_template_rows": null,
            "height": null,
            "justify_content": null,
            "justify_items": null,
            "left": null,
            "margin": null,
            "max_height": null,
            "max_width": null,
            "min_height": null,
            "min_width": null,
            "object_fit": null,
            "object_position": null,
            "order": null,
            "overflow": null,
            "overflow_x": null,
            "overflow_y": null,
            "padding": null,
            "right": null,
            "top": null,
            "visibility": null,
            "width": null
          }
        },
        "bd2a49aed8df41be81f2cc7dd1f9b886": {
          "model_module": "@jupyter-widgets/controls",
          "model_module_version": "1.5.0",
          "model_name": "DescriptionStyleModel",
          "state": {
            "_model_module": "@jupyter-widgets/controls",
            "_model_module_version": "1.5.0",
            "_model_name": "DescriptionStyleModel",
            "_view_count": null,
            "_view_module": "@jupyter-widgets/base",
            "_view_module_version": "1.2.0",
            "_view_name": "StyleView",
            "description_width": ""
          }
        },
        "c32322778a45440e800d39c2a7e16b90": {
          "model_module": "@jupyter-widgets/base",
          "model_module_version": "1.2.0",
          "model_name": "LayoutModel",
          "state": {
            "_model_module": "@jupyter-widgets/base",
            "_model_module_version": "1.2.0",
            "_model_name": "LayoutModel",
            "_view_count": null,
            "_view_module": "@jupyter-widgets/base",
            "_view_module_version": "1.2.0",
            "_view_name": "LayoutView",
            "align_content": null,
            "align_items": null,
            "align_self": null,
            "border": null,
            "bottom": null,
            "display": null,
            "flex": null,
            "flex_flow": null,
            "grid_area": null,
            "grid_auto_columns": null,
            "grid_auto_flow": null,
            "grid_auto_rows": null,
            "grid_column": null,
            "grid_gap": null,
            "grid_row": null,
            "grid_template_areas": null,
            "grid_template_columns": null,
            "grid_template_rows": null,
            "height": null,
            "justify_content": null,
            "justify_items": null,
            "left": null,
            "margin": null,
            "max_height": null,
            "max_width": null,
            "min_height": null,
            "min_width": null,
            "object_fit": null,
            "object_position": null,
            "order": null,
            "overflow": null,
            "overflow_x": null,
            "overflow_y": null,
            "padding": null,
            "right": null,
            "top": null,
            "visibility": null,
            "width": null
          }
        },
        "ce0c08b3fc2c49ed80713265db253513": {
          "model_module": "@jupyter-widgets/base",
          "model_module_version": "1.2.0",
          "model_name": "LayoutModel",
          "state": {
            "_model_module": "@jupyter-widgets/base",
            "_model_module_version": "1.2.0",
            "_model_name": "LayoutModel",
            "_view_count": null,
            "_view_module": "@jupyter-widgets/base",
            "_view_module_version": "1.2.0",
            "_view_name": "LayoutView",
            "align_content": null,
            "align_items": null,
            "align_self": null,
            "border": null,
            "bottom": null,
            "display": null,
            "flex": null,
            "flex_flow": null,
            "grid_area": null,
            "grid_auto_columns": null,
            "grid_auto_flow": null,
            "grid_auto_rows": null,
            "grid_column": null,
            "grid_gap": null,
            "grid_row": null,
            "grid_template_areas": null,
            "grid_template_columns": null,
            "grid_template_rows": null,
            "height": null,
            "justify_content": null,
            "justify_items": null,
            "left": null,
            "margin": null,
            "max_height": null,
            "max_width": null,
            "min_height": null,
            "min_width": null,
            "object_fit": null,
            "object_position": null,
            "order": null,
            "overflow": null,
            "overflow_x": null,
            "overflow_y": null,
            "padding": null,
            "right": null,
            "top": null,
            "visibility": null,
            "width": null
          }
        },
        "faa5d9eca6bb40f6b9d34cb242e72295": {
          "model_module": "@jupyter-widgets/controls",
          "model_module_version": "1.5.0",
          "model_name": "ProgressStyleModel",
          "state": {
            "_model_module": "@jupyter-widgets/controls",
            "_model_module_version": "1.5.0",
            "_model_name": "ProgressStyleModel",
            "_view_count": null,
            "_view_module": "@jupyter-widgets/base",
            "_view_module_version": "1.2.0",
            "_view_name": "StyleView",
            "bar_color": null,
            "description_width": ""
          }
        },
        "fd580bc1eb6f424a9cb6e318ac59e5ea": {
          "model_module": "@jupyter-widgets/controls",
          "model_module_version": "1.5.0",
          "model_name": "HTMLModel",
          "state": {
            "_dom_classes": [],
            "_model_module": "@jupyter-widgets/controls",
            "_model_module_version": "1.5.0",
            "_model_name": "HTMLModel",
            "_view_count": null,
            "_view_module": "@jupyter-widgets/controls",
            "_view_module_version": "1.5.0",
            "_view_name": "HTMLView",
            "description": "",
            "description_tooltip": null,
            "layout": "IPY_MODEL_8bff6ebd659c411f86ec4148a1ac2f26",
            "placeholder": "​",
            "style": "IPY_MODEL_bd2a49aed8df41be81f2cc7dd1f9b886",
            "value": " 50/50 [13:08&lt;00:00, 12.19s/it]"
          }
        }
      }
    }
  },
  "nbformat": 4,
  "nbformat_minor": 0
}